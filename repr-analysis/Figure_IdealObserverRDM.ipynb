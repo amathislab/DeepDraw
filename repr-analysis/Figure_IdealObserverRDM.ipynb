{
 "cells": [
  {
   "cell_type": "code",
   "execution_count": 1,
   "metadata": {},
   "outputs": [
    {
     "name": "stdout",
     "output_type": "stream",
     "text": [
      "\n",
      "WARNING: The TensorFlow contrib module will not be included in TensorFlow 2.0.\n",
      "For more information, please see:\n",
      "  * https://github.com/tensorflow/community/blob/master/rfcs/20180907-contrib-sunset.md\n",
      "  * https://github.com/tensorflow/addons\n",
      "If you depend on functionality not listed there, please file an issue.\n",
      "\n"
     ]
    }
   ],
   "source": [
    "import os\n",
    "import numpy as np\n",
    "import pandas as pd\n",
    "import copy\n",
    "import h5py\n",
    "\n",
    "from scipy.spatial.distance import pdist, squareform, cosine, correlation\n",
    "from scipy.linalg import block_diag\n",
    "from scipy.stats import kendalltau\n",
    "\n",
    "import pickle\n",
    "import sys\n",
    "PATH_TO_CODE = '../code/'\n",
    "sys.path.append(os.path.abspath(PATH_TO_CODE))\n",
    "from kinematics_decoding import load_model\n",
    "\n",
    "import matplotlib.pyplot as plt\n",
    "import seaborn as sns"
   ]
  },
  {
   "cell_type": "markdown",
   "metadata": {},
   "source": [
    "**Comparison to Oracle.**"
   ]
  },
  {
   "cell_type": "code",
   "execution_count": null,
   "metadata": {},
   "outputs": [],
   "source": [
    "# Create Oracle RDM.\n",
    "one_class = np.ones((200, 200))*2\n",
    "all_classes = [one_class for _ in range(20)]\n",
    "block_rdm_sqform = 2 - block_diag(*all_classes)\n",
    "oracle_rdm = squareform(block_rdm_sqform)"
   ]
  },
  {
   "cell_type": "code",
   "execution_count": null,
   "metadata": {},
   "outputs": [],
   "source": [
    "def sort_layers(layers_list, arch_type):\n",
    "    if arch_type == 'temporal_spatial':\n",
    "        return sorted(layers_list, key=lambda x: x.replace('s', 'x'))\n",
    "    return sorted(layers_list)"
   ]
  },
  {
   "cell_type": "code",
   "execution_count": null,
   "metadata": {},
   "outputs": [],
   "source": [
    "# Select Models to compare to ideal observer RDM\n",
    "all_models = pickle.load(open('../nn-training/analyzed_convmodels.p', 'rb'))\n",
    "\n",
    "# For each model, compute distance to Oracle RDM, initially just using Correlation Distance\n",
    "# Save for each layer : model_name, layer_name, layer_number, layer_reldepth, distance_to_oracle, arch_type\n",
    "\n",
    "layerwise_distances = []\n",
    "for i in range(len(all_models)):\n",
    "    mymodel = load_model(all_models.iloc[i], 4, 'conv', all_models['is_trained'].iloc[i])\n",
    "    mymodel_rdms = pickle.load(open(os.path.join(mymodel.model_path, 'model_rdm.p'), 'rb'))\n",
    "\n",
    "    # Sort layer names, numbers\n",
    "    layers_list = copy.copy(list(mymodel_rdms.keys()))\n",
    "    layers_list.remove('score')\n",
    "    layers_list = sort_layers(layers_list, mymodel.arch_type)\n",
    "\n",
    "    for j in range(len(layers_list)):\n",
    "        mylayer_results = {'model_name': mymodel.name,\n",
    "                           'arch_type': mymodel.arch_type,\n",
    "                           'layer_name': layers_list[j],\n",
    "                           'layer_number': j + 1,\n",
    "                           'layer_reldep': (j+1)/(len(layers_list)),\n",
    "                           'is_trained' : all_models['is_trained'].iloc[i]}\n",
    "        mylayer_results['oracle_corr'] = correlation(oracle_rdm, mymodel_rdms[layers_list[j]])\n",
    "        mylayer_results['oracle_kendall'], _ = kendalltau(oracle_rdm, mymodel_rdms[layers_list[j]])\n",
    "        layerwise_distances.append(mylayer_results)\n",
    "            \n",
    "results = pd.DataFrame(copy.copy(layerwise_distances))"
   ]
  },
  {
   "cell_type": "code",
   "execution_count": null,
   "metadata": {},
   "outputs": [],
   "source": [
    "# Get oracle correlation for spindle firing rate response representation\n",
    "kinematics = pickle.load(open('./kinematics_rdms.p', 'rb'))\n",
    "\n",
    "kinematics_distances = []\n",
    "\n",
    "for key, val in kinematics.items():\n",
    "    mykin_results = {'model_name': key,\n",
    "                     'arch_type': 'kinematics',\n",
    "                     'layer_name': None,\n",
    "                     'layer_number': 0,\n",
    "                     'layer_reldep': 0}\n",
    "    mykin_results['oracle_corr'] = correlation(oracle_rdm, val)\n",
    "    mykin_results['oracle_kendall'], _ = 0, 0\n",
    "    kinematics_distances.append(mykin_results)\n",
    "    \n",
    "results_kinematcs = pd.DataFrame(copy.copy(kinematics_distances))"
   ]
  },
  {
   "cell_type": "code",
   "execution_count": null,
   "metadata": {},
   "outputs": [],
   "source": [
    "results.to_pickle('analyzed_models_idealobs_rdm.p')\n",
    "results_kinematcs.to_pickle('kinematics_idealobs_rdm.p')"
   ]
  },
  {
   "cell_type": "markdown",
   "metadata": {},
   "source": [
    "**Plotting oracle comparison results.**"
   ]
  },
  {
   "cell_type": "code",
   "execution_count": 3,
   "metadata": {},
   "outputs": [
    {
     "data": {
      "text/plain": [
       "<matplotlib.legend.Legend at 0x7f1ec9a2a978>"
      ]
     },
     "execution_count": 3,
     "metadata": {},
     "output_type": "execute_result"
    },
    {
     "data": {
      "image/png": "[encoded data removed]",
      "text/plain": [
       "<Figure size 432x288 with 1 Axes>"
      ]
     },
     "metadata": {
      "needs_background": "light"
     },
     "output_type": "display_data"
    }
   ],
   "source": [
    "results_kinematics = pickle.load(open('./kinematics_idealobs_rdm.p', 'rb'))\n",
    "results = pickle.load(open('./analyzed_models_idealobs_rdm.p', 'rb'))\n",
    "\n",
    "# plt.figure(figsize=[3, 3])\n",
    "sns.scatterplot(x='layer_reldep', y=1-results_kinematics.oracle_corr, \n",
    "                data=results_kinematics[results_kinematics['model_name'] == 'spindle_firing'],\n",
    "                marker='D', color='C9')\n",
    "\n",
    "sns.lineplot(x='layer_reldep', y=1-results.oracle_corr, hue='arch_type', style='is_trained',\n",
    "             data=results, err_style=None, lw=1, style_order=[True, False],\n",
    "             hue_order=['spatiotemporal', 'spatial_temporal'], palette=['C2', 'C0'])\n",
    "sns.lineplot(x='layer_reldep', y=1-results.oracle_corr, hue='arch_type',\n",
    "             data=results, estimator=None, lw=0.3, units='model_name',\n",
    "             hue_order=['spatiotemporal', 'spatial_temporal'], palette=['C2', 'C0'], legend=None)\n",
    "\n",
    "sns.scatterplot(x='layer_reldep', y=1-results.oracle_corr, hue='arch_type',\n",
    "                data=results, legend=None, s=15, \n",
    "                hue_order=['spatiotemporal', 'spatial_temporal'], palette=['C2', 'C0'])\n",
    "\n",
    "plt.ylabel('Correlation with Oracle RDM', fontsize=7)\n",
    "plt.xlabel('Relative depth of layer', fontsize=7)\n",
    "plt.xticks(fontsize=7)\n",
    "plt.yticks(fontsize=7)\n",
    "plt.ylim([0, 0.25])\n",
    "sns.despine()\n",
    "\n",
    "plt.legend(bbox_to_anchor=(1.05, 1), loc=2)"
   ]
  }
 ],
 "metadata": {
  "kernelspec": {
   "display_name": "Python 3",
   "language": "python",
   "name": "python3"
  },
  "language_info": {
   "codemirror_mode": {
    "name": "ipython",
    "version": 3
   },
   "file_extension": ".py",
   "mimetype": "text/x-python",
   "name": "python",
   "nbconvert_exporter": "python",
   "pygments_lexer": "ipython3",
   "version": "3.6.3"
  },
  "varInspector": {
   "cols": {
    "lenName": 16,
    "lenType": 16,
    "lenVar": 40
   },
   "kernels_config": {
    "python": {
     "delete_cmd_postfix": "",
     "delete_cmd_prefix": "del ",
     "library": "var_list.py",
     "varRefreshCmd": "print(var_dic_list())"
    },
    "r": {
     "delete_cmd_postfix": ") ",
     "delete_cmd_prefix": "rm(",
     "library": "var_list.r",
     "varRefreshCmd": "cat(var_dic_list()) "
    }
   },
   "types_to_exclude": [
    "module",
    "function",
    "builtin_function_or_method",
    "instance",
    "_Feature"
   ],
   "window_display": false
  }
 },
 "nbformat": 4,
 "nbformat_minor": 2
}
