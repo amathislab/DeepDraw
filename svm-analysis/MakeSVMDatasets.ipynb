{
 "cells": [
  {
   "cell_type": "markdown",
   "metadata": {},
   "source": [
    "Make different datasets by suppressing latent variables. I guess I need to do this for all the data types!\n",
    "\n",
    "Latent variables to suppress and naming convention:\n",
    "\n",
    "1. Plane suppressed datasets : svm_horizontal, svm_vertical\n",
    "2. Size suppressed datasets : svm_size1, svm_size2, svm_size3\n",
    "3. Speed suppressed datasets : svm_speed1, svm_speed2, svm_speed3, svm_speed4\n",
    "4. Size and Plane suppressed datasets : svm_sp1, svm_sp2, svm_sp3, svm_sp4, svm_sp5, svm_sp6"
   ]
  },
  {
   "cell_type": "code",
   "execution_count": 1,
   "metadata": {},
   "outputs": [],
   "source": [
    "import os\n",
    "import h5py\n",
    "import numpy as np"
   ]
  },
  {
   "cell_type": "code",
   "execution_count": null,
   "metadata": {},
   "outputs": [],
   "source": [
    "with h5py.File('../data/pcr_dataset_train.hdf5', 'r') as mydata:\n",
    "    endeffector_coords = mydata['endeffector_coords'][()]\n",
    "    joint_coords = mydata['joint_coords'][()]\n",
    "    muscle_coords = mydata['muscle_coords'][()]\n",
    "    spindle_coords = mydata['spindle_firing'][()]\n",
    "    labels = mydata['label'][()]\n",
    "    planes = mydata['plane'][()]\n",
    "    sizes = mydata['size'][()]\n",
    "    speeds = mydata['speed'][()]"
   ]
  },
  {
   "cell_type": "code",
   "execution_count": 3,
   "metadata": {},
   "outputs": [],
   "source": [
    "with h5py.File('../baselinemodels/svm_data/svm_train.hdf5', 'w') as myfile:\n",
    "    myfile.create_dataset('endeffector_coords', data=endeffector_coords)\n",
    "    myfile.create_dataset('joint_coords', data=joint_coords)\n",
    "    myfile.create_dataset('muscle_coords', data=muscle_coords)\n",
    "    myfile.create_dataset('spindle_firing', data=spindle_coords)\n",
    "    myfile.create_dataset('label', data=labels)"
   ]
  },
  {
   "cell_type": "code",
   "execution_count": 4,
   "metadata": {},
   "outputs": [],
   "source": [
    "# Make plane suppressed datasets\n",
    "horizontal = planes == b'horizontal'\n",
    "vertical = planes == b'vertical'\n",
    "\n",
    "plane_filenames = ['./svm_data/svm_horizontal.hdf5', './svm_data/svm_vertical.hdf5']\n",
    "idx = [horizontal, vertical]\n",
    "for i in range(len(plane_filenames)):\n",
    "    with h5py.File(plane_filenames[i], 'w') as myfile:\n",
    "        myfile.create_dataset('endeffector_coords', data=endeffector_coords[idx[i]])\n",
    "        myfile.create_dataset('joint_coords', data=joint_coords[idx[i]])\n",
    "        myfile.create_dataset('muscle_coords', data=muscle_coords[idx[i]])\n",
    "        myfile.create_dataset('spindle_firing', data=spindle_coords[idx[i]])\n",
    "        myfile.create_dataset('label', data=labels[idx[i]])"
   ]
  },
  {
   "cell_type": "code",
   "execution_count": 5,
   "metadata": {},
   "outputs": [],
   "source": [
    "size1 = sizes == 0.7\n",
    "size2 = sizes == 1\n",
    "size3 = sizes == 1.3\n",
    "\n",
    "size_filenames = ['./svm_data/svm_size1.hdf5', './svm_data/svm_size2.hdf5', './svm_data/svm_size3.hdf5']\n",
    "idx = [size1, size2, size3]\n",
    "\n",
    "for i in range(len(size_filenames)):\n",
    "    with h5py.File(size_filenames[i], 'w') as myfile:\n",
    "        myfile.create_dataset('endeffector_coords', data=endeffector_coords[idx[i]])\n",
    "        myfile.create_dataset('joint_coords', data=joint_coords[idx[i]])\n",
    "        myfile.create_dataset('muscle_coords', data=muscle_coords[idx[i]])\n",
    "        myfile.create_dataset('spindle_firing', data=spindle_coords[idx[i]])\n",
    "        myfile.create_dataset('label', data=labels[idx[i]])"
   ]
  },
  {
   "cell_type": "code",
   "execution_count": 6,
   "metadata": {},
   "outputs": [],
   "source": [
    "speed1 = speeds == 0.8\n",
    "speed2 = speeds == 1.0\n",
    "speed3 = speeds == 1.2\n",
    "speed4 = speeds == 1.4\n",
    "\n",
    "speed_filenames = ['./svm_data/svm_speed1.hdf5', './svm_data/svm_speed2.hdf5', \n",
    "                   './svm_data/svm_speed3.hdf5', './svm_data/svm_speed4.hdf5']\n",
    "idx = [speed1, speed2, speed3, speed4]\n",
    "\n",
    "for i in range(len(speed_filenames)):\n",
    "    with h5py.File(speed_filenames[i], 'w') as myfile:\n",
    "        myfile.create_dataset('endeffector_coords', data=endeffector_coords[idx[i]])\n",
    "        myfile.create_dataset('joint_coords', data=joint_coords[idx[i]])\n",
    "        myfile.create_dataset('muscle_coords', data=muscle_coords[idx[i]])\n",
    "        myfile.create_dataset('spindle_firing', data=spindle_coords[idx[i]])\n",
    "        myfile.create_dataset('label', data=labels[idx[i]])"
   ]
  },
  {
   "cell_type": "code",
   "execution_count": 7,
   "metadata": {},
   "outputs": [],
   "source": [
    "sp1 = np.logical_and(sizes == 0.7, planes == b'horizontal')\n",
    "sp2 = np.logical_and(sizes == 0.7, planes == b'vertical')\n",
    "sp3 = np.logical_and(sizes == 1, planes == b'horizontal')\n",
    "sp4 = np.logical_and(sizes == 1, planes == b'vertical')\n",
    "sp5 = np.logical_and(sizes == 1.3, planes == b'horizontal')\n",
    "sp6 = np.logical_and(sizes == 1.3, planes == b'vertical')\n",
    "\n",
    "sp_filenames = ['./svm_data/svm_sp1.hdf5', './svm_data/svm_sp2.hdf5', './svm_data/svm_sp3.hdf5',\n",
    "                './svm_data/svm_sp4.hdf5', './svm_data/svm_sp5.hdf5', './svm_data/svm_sp6.hdf5']\n",
    "idx = [sp1, sp2, sp3, sp4, sp5, sp6]\n",
    "\n",
    "for i in range(len(sp_filenames)):\n",
    "    with h5py.File(sp_filenames[i], 'w') as myfile:\n",
    "        myfile.create_dataset('endeffector_coords', data=endeffector_coords[idx[i]])\n",
    "        myfile.create_dataset('joint_coords', data=joint_coords[idx[i]])\n",
    "        myfile.create_dataset('muscle_coords', data=muscle_coords[idx[i]])\n",
    "        myfile.create_dataset('spindle_firing', data=spindle_coords[idx[i]])\n",
    "        myfile.create_dataset('label', data=labels[idx[i]])"
   ]
  },
  {
   "cell_type": "code",
   "execution_count": null,
   "metadata": {},
   "outputs": [],
   "source": []
  }
 ],
 "metadata": {
  "kernelspec": {
   "display_name": "Python 3",
   "language": "python",
   "name": "python3"
  },
  "language_info": {
   "codemirror_mode": {
    "name": "ipython",
    "version": 3
   },
   "file_extension": ".py",
   "mimetype": "text/x-python",
   "name": "python",
   "nbconvert_exporter": "python",
   "pygments_lexer": "ipython3",
   "version": "3.6.3"
  },
  "varInspector": {
   "cols": {
    "lenName": 16,
    "lenType": 16,
    "lenVar": 40
   },
   "kernels_config": {
    "python": {
     "delete_cmd_postfix": "",
     "delete_cmd_prefix": "del ",
     "library": "var_list.py",
     "varRefreshCmd": "print(var_dic_list())"
    },
    "r": {
     "delete_cmd_postfix": ") ",
     "delete_cmd_prefix": "rm(",
     "library": "var_list.r",
     "varRefreshCmd": "cat(var_dic_list()) "
    }
   },
   "types_to_exclude": [
    "module",
    "function",
    "builtin_function_or_method",
    "instance",
    "_Feature"
   ],
   "window_display": false
  }
 },
 "nbformat": 4,
 "nbformat_minor": 2
}
