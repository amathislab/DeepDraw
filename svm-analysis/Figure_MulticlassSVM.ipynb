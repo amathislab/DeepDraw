{
 "cells": [
  {
   "cell_type": "code",
   "execution_count": 1,
   "metadata": {},
   "outputs": [],
   "source": [
    "import os\n",
    "import numpy as np\n",
    "from sklearn.svm import LinearSVC\n",
    "\n",
    "import glob\n",
    "import pickle\n",
    "import h5py\n",
    "import itertools\n",
    "import copy\n",
    "\n",
    "%matplotlib inline\n",
    "import matplotlib.pyplot as plt\n",
    "import seaborn as sns"
   ]
  },
  {
   "cell_type": "code",
   "execution_count": null,
   "metadata": {},
   "outputs": [],
   "source": [
    "# First import test data\n",
    "with h5py.File('../data/pcr_dataset_test.hdf5', 'r') as myfile:\n",
    "    test_dataset = {}\n",
    "    test_dataset['spindle_firing'] = myfile['spindle_firing'][()]\n",
    "    test_dataset['muscle_coords'] = myfile['muscle_coords'][()]\n",
    "    test_dataset['endeffector_coords'] = myfile['endeffector_coords'][()]\n",
    "    test_dataset['joint_coords'] = myfile['joint_coords'][()]\n",
    "    test_dataset['label'] = myfile['label'][()]\n",
    "    test_dataset['plane'] = myfile['plane'][()]\n",
    "    test_dataset['size'] = myfile['size'][()]\n",
    "    test_dataset['speed'] = myfile['speed'][()]"
   ]
  },
  {
   "cell_type": "markdown",
   "metadata": {},
   "source": [
    "**Sanity Checks**"
   ]
  },
  {
   "cell_type": "code",
   "execution_count": null,
   "metadata": {},
   "outputs": [],
   "source": [
    "labels = range(1, 21)\n",
    "classifiers_list = []\n",
    "for i, j in itertools.combinations(labels, 2):\n",
    "    filename = f'./ovo_results/spindle_firing_full_variability_{i}_{j}.p'\n",
    "    classifiers, scores, _ = pickle.load(open(filename, 'rb'))['spindle_firing']\n",
    "    classifiers_list.append(([i, j], classifiers[np.argmax(scores)], max(scores)))"
   ]
  },
  {
   "cell_type": "code",
   "execution_count": null,
   "metadata": {},
   "outputs": [],
   "source": [
    "# Test whether the training was successful or not\n",
    "# Validation accuracy and test accuracy must be close enough!\n",
    "pair, classifiers, val_accuracy = zip(*classifiers_list)"
   ]
  },
  {
   "cell_type": "code",
   "execution_count": null,
   "metadata": {},
   "outputs": [],
   "source": [
    "test_accuracy = []\n",
    "for i in range(len(pair)):\n",
    "    mypair = pair[i]\n",
    "    binary_valid_idx = [x in mypair for x in test_dataset['label']]\n",
    "    binary_valid_data = test_dataset['spindle_firing'][binary_valid_idx]\n",
    "    binary_valid_labels = test_dataset['label'][binary_valid_idx]\n",
    "    acc = classifiers[i].score(binary_valid_data.reshape(-1, 25*320), binary_valid_labels)\n",
    "    test_accuracy.append(acc)"
   ]
  },
  {
   "cell_type": "code",
   "execution_count": null,
   "metadata": {},
   "outputs": [],
   "source": [
    "plt.plot(test_accuracy)\n",
    "plt.plot(val_accuracy)"
   ]
  },
  {
   "cell_type": "code",
   "execution_count": null,
   "metadata": {},
   "outputs": [],
   "source": [
    "# given class label, go through the confidence scores, take mean and sd, plot\n",
    "mytestclassifier = classifiers[0]\n",
    "confidences = mytestclassifier.decision_function(test_data.reshape(-1, 25*320))\n",
    "max_idx = max(np.unique(test_labels, return_counts=True)[1])\n",
    "confidences_list = []\n",
    "for label in range(1, 21):\n",
    "    valid_idx = test_labels == label\n",
    "    confidences_list.append(confidences[valid_idx])"
   ]
  },
  {
   "cell_type": "code",
   "execution_count": null,
   "metadata": {},
   "outputs": [],
   "source": [
    "plt.boxplot(confidences_list)\n",
    "mylabels = ['a', 'b', 'c', 'd', 'e', 'g', 'h', 'l', 'm', 'n',\n",
    "            'o', 'p', 'q', 'r', 's', 'u', 'v', 'w', 'y', 'z']\n",
    "plt.xticks(np.arange(1, 21), mylabels); plt.show()"
   ]
  },
  {
   "cell_type": "markdown",
   "metadata": {},
   "source": [
    "**Multiclass Classification**"
   ]
  },
  {
   "cell_type": "code",
   "execution_count": null,
   "metadata": {},
   "outputs": [],
   "source": [
    "# Making decisions, given predictions and confidences:\n",
    "# Reimplemented from sklearn\n",
    "def decision_function(predictions, confidences, n_classes):\n",
    "    n_samples = predictions.shape[0]\n",
    "    votes = np.zeros((n_samples, n_classes))\n",
    "    sum_of_confidences = np.zeros((n_samples, n_classes))\n",
    "\n",
    "    k = 0\n",
    "    for i in range(n_classes):\n",
    "        for j in range(i + 1, n_classes):\n",
    "            sum_of_confidences[:, i] -= confidences[:, k]\n",
    "            sum_of_confidences[:, j] += confidences[:, k]\n",
    "            votes[predictions[:, k] == i+1, i] += 1\n",
    "            votes[predictions[:, k] == j+1, j] += 1\n",
    "            k += 1\n",
    "\n",
    "    max_confidences = sum_of_confidences.max()\n",
    "    min_confidences = sum_of_confidences.min()\n",
    "\n",
    "    if max_confidences == min_confidences:\n",
    "        return votes\n",
    "\n",
    "    # Scale the sum_of_confidences to (-0.5, 0.5) and add it with votes.\n",
    "    # The motivation is to use confidence levels as a way to break ties in\n",
    "    # the votes without switching any decision made based on a difference\n",
    "    # of 1 vote.\n",
    "    eps = np.finfo(sum_of_confidences.dtype).eps\n",
    "    max_abs_confidence = max(abs(max_confidences), abs(min_confidences))\n",
    "    scale = (0.5 - eps) / max_abs_confidence\n",
    "    \n",
    "    return votes + sum_of_confidences * scale\n",
    "\n",
    "def gather_accuracies(classifiers, test_data, test_labels):    \n",
    "    num_samples = test_data.shape[0]\n",
    "    n_classifiers = len(classifiers)\n",
    "    n_classes = 20\n",
    "\n",
    "    predictions = np.zeros((num_samples, n_classifiers))\n",
    "    confidences = np.zeros((num_samples, n_classifiers))\n",
    "\n",
    "    for i in range(n_classifiers):\n",
    "        predictions[:, i] = classifiers[i].predict(test_data)\n",
    "        confidences[:, i] = classifiers[i].decision_function(test_data)\n",
    "\n",
    "    decisions = decision_function(predictions, confidences, n_classes)\n",
    "    decisions = np.argmax(decisions, axis=1)\n",
    "\n",
    "    accuracy = np.sum(test_labels-1 == decisions)/num_samples\n",
    "    \n",
    "    return (accuracy, test_labels-1, decisions)"
   ]
  },
  {
   "cell_type": "markdown",
   "metadata": {},
   "source": [
    "**Full Variability Datasets**"
   ]
  },
  {
   "cell_type": "code",
   "execution_count": null,
   "metadata": {},
   "outputs": [],
   "source": [
    "def multiclass_performance(input_type):    \n",
    "    # Collect classifiers given input type\n",
    "    labels = range(1, 21)\n",
    "    classifiers_list = []\n",
    "    for i, j in itertools.combinations(labels, 2):\n",
    "        filename = f'./ovo_results/{input_type}_full_variability_{i}_{j}.p'\n",
    "        classifiers, scores, _ = pickle.load(open(filename, 'rb'))[input_type]\n",
    "        classifiers_list.append(([i, j], classifiers[np.argmax(scores)], max(scores)))\n",
    "    \n",
    "    mytest_data = test_dataset[input_type]\n",
    "    mytest_labels = test_dataset['label']\n",
    "    \n",
    "    pair, classifiers, score = zip(*classifiers_list)\n",
    "    \n",
    "    _, ninputs, ntime = mytest_data.shape\n",
    "    binary_accuracies = []\n",
    "    for i in range(len(pair)):\n",
    "        mypair = pair[i]\n",
    "        binary_valid_idx = [x in mypair for x in mytest_labels]\n",
    "        binary_valid_data = mytest_data[binary_valid_idx]\n",
    "        binary_valid_labels = mytest_labels[binary_valid_idx]\n",
    "        acc = classifiers[i].score(binary_valid_data.reshape(-1, ninputs*ntime), binary_valid_labels)\n",
    "        binary_accuracies.append(acc)\n",
    "\n",
    "    accuracy_decisions = gather_accuracies(classifiers, mytest_data.reshape(-1, ninputs*ntime), mytest_labels)\n",
    "\n",
    "    return binary_accuracies, accuracy_decisions[0]"
   ]
  },
  {
   "cell_type": "code",
   "execution_count": null,
   "metadata": {},
   "outputs": [],
   "source": [
    "results = []\n",
    "inputs = ['endeffector_coords', 'joint_coords', 'muscle_coords', 'spindle_firing']\n",
    "for input_type in inputs:\n",
    "    bin_acc, acc_dec = multiclass_performance(input_type)\n",
    "    myresults = {\n",
    "        'input_type': input_type,\n",
    "        'suppressed_var': 'None',\n",
    "        'suppressed_val': 'None',\n",
    "        'binary_acc': bin_acc,\n",
    "        'accuracy': acc_dec\n",
    "    }\n",
    "    results.append(copy.copy(myresults))"
   ]
  },
  {
   "cell_type": "markdown",
   "metadata": {},
   "source": [
    "**Latent Variable Suppressed Datasets**"
   ]
  },
  {
   "cell_type": "code",
   "execution_count": null,
   "metadata": {},
   "outputs": [],
   "source": [
    "def multiclass_performance_suppressed(input_type, suppressed_var, test_dataset):\n",
    "    '''\n",
    "    Arguments\n",
    "    ---------\n",
    "    input_type : type of input used for classifier\n",
    "    suppressed_var : a tuple, whose first element tells us about how to form the classifier list\n",
    "                     and second element tells us how to obtain test dataset\n",
    "    test_dataset : containing all necessary information to evaluate the classifiers\n",
    "    \n",
    "    '''\n",
    "    \n",
    "    # Collect classifiers given input type and suppressed variable key\n",
    "    labels = range(1, 21)\n",
    "    classifiers_list = []\n",
    "    for i, j in itertools.combinations(labels, 2):\n",
    "        filename = f'./ovo_results/{input_type}_suppressed_{i}_{j}.p'\n",
    "        classifiers, scores, _ = pickle.load(open(filename, 'rb'))[suppressed_var[0]]\n",
    "        classifiers_list.append(([i, j], classifiers[np.argmax(scores)], max(scores)))\n",
    "    \n",
    "    # Make test data given what latent variables were suppressed\n",
    "    latent_var, latent_val = suppressed_var[1] # Can be lists\n",
    "    if type(latent_var) is list:\n",
    "        valid_idx = np.logical_and(\n",
    "            *[test_dataset[latent_var[i]] == latent_val[i] for i in range(len(latent_var))])\n",
    "    else:\n",
    "        valid_idx = test_dataset[latent_var] == latent_val\n",
    "    \n",
    "    mytest_data = test_dataset[input_type][valid_idx]\n",
    "    mytest_labels = test_dataset['label'][valid_idx]\n",
    "    \n",
    "    pair, classifiers, score = zip(*classifiers_list)\n",
    "    \n",
    "    _, ninputs, ntime = mytest_data.shape\n",
    "    binary_accuracies = []\n",
    "    for i in range(len(pair)):\n",
    "        mypair = pair[i]\n",
    "        binary_valid_idx = [x in mypair for x in mytest_labels]\n",
    "        binary_valid_data = mytest_data[binary_valid_idx]\n",
    "        binary_valid_labels = mytest_labels[binary_valid_idx]\n",
    "        acc = classifiers[i].score(binary_valid_data.reshape(-1, ninputs*ntime), binary_valid_labels)\n",
    "        binary_accuracies.append(acc)\n",
    "\n",
    "    accuracy_decisions = gather_accuracies(classifiers, mytest_data.reshape(-1, ninputs*ntime), mytest_labels)\n",
    "\n",
    "    return binary_accuracies, accuracy_decisions[0]"
   ]
  },
  {
   "cell_type": "code",
   "execution_count": null,
   "metadata": {},
   "outputs": [],
   "source": [
    "latent_variable_keys = {\n",
    "    'horizontal': ('plane', b'horizontal'), 'vertical': ('plane', b'vertical'),\n",
    "    'size1': ('size', 0.7), 'size2': ('size', 1), 'size3': ('size', 1.3),\n",
    "    'speed1': ('speed', 0.8), 'speed2': ('speed', 1.0), 'speed3': ('speed', 1.2), 'speed4': ('speed', 1.4),\n",
    "    'sp1': (['size', 'plane'], [0.7, b'horizontal']),\n",
    "    'sp2': (['size', 'plane'], [0.7, b'vertical']),\n",
    "    'sp3': (['size', 'plane'], [1, b'horizontal']),\n",
    "    'sp4': (['size', 'plane'], [1, b'vertical']),\n",
    "    'sp5': (['size', 'plane'], [1.3, b'horizontal']),\n",
    "    'sp6': (['size', 'plane'], [1.3, b'vertical'])\n",
    "}"
   ]
  },
  {
   "cell_type": "code",
   "execution_count": null,
   "metadata": {},
   "outputs": [],
   "source": [
    "for i, j in itertools.product(inputs, latent_variable_keys):\n",
    "    bin_acc, acc_dec = multiclass_performance_suppressed(i, (j, latent_variable_keys[j]), test_dataset)\n",
    "    myresults = {\n",
    "        'input_type': i, \n",
    "        'suppressed_var': latent_variable_keys[j][0],\n",
    "        'suppressed_val': latent_variable_keys[j][1],\n",
    "        'binary_acc': bin_acc,\n",
    "        'accuracy': acc_dec\n",
    "    }\n",
    "    results.append(copy.copy(myresults))"
   ]
  },
  {
   "cell_type": "code",
   "execution_count": null,
   "metadata": {},
   "outputs": [],
   "source": [
    "import pandas as pd\n",
    "results_df = pd.DataFrame(results)\n",
    "\n",
    "def replace(df, col, key, val):\n",
    "    m = [v == key for v in df[col]]\n",
    "    df.loc[m, col] = val\n",
    "    \n",
    "replace(results_df, 'suppressed_var', ['size', 'plane'], 'size_plane')"
   ]
  },
  {
   "cell_type": "code",
   "execution_count": null,
   "metadata": {},
   "outputs": [],
   "source": [
    "results_df.to_pickle('./svm_results.p')"
   ]
  },
  {
   "cell_type": "markdown",
   "metadata": {},
   "source": [
    "**Plotting**"
   ]
  },
  {
   "cell_type": "code",
   "execution_count": 2,
   "metadata": {},
   "outputs": [],
   "source": [
    "results_df = pickle.load(open('./svm_results.p', 'rb'))"
   ]
  },
  {
   "cell_type": "code",
   "execution_count": 4,
   "metadata": {},
   "outputs": [
    {
     "data": {
      "text/plain": [
       "<matplotlib.legend.Legend at 0x7fc5cc8e4ba8>"
      ]
     },
     "execution_count": 4,
     "metadata": {},
     "output_type": "execute_result"
    },
    {
     "data": {
      "image/png": "[encoded data removed]",
      "text/plain": [
       "<Figure size 252x151.2 with 1 Axes>"
      ]
     },
     "metadata": {
      "needs_background": "light"
     },
     "output_type": "display_data"
    }
   ],
   "source": [
    "plt.figure(figsize=[3.5, 2.1])\n",
    "with plt.rc_context({'lines.linewidth': 0.8}):\n",
    "    sns.pointplot(x='suppressed_var', y='accuracy', hue='input_type', data=results_df, \n",
    "              order=['size_plane', 'size', 'plane', 'speed', 'None'], dodge=0.3, errwidth=1, \n",
    "              ci='sd', capsize=0.1, markers='D', palette=['C6', 'C7', 'C8', 'C9'])\n",
    "sns.despine()\n",
    "plt.xticks([0, 1, 2, 3, 4], ['Size+Plane', 'Size', 'Plane', 'Speed', 'None'], fontsize=7);\n",
    "plt.yticks([0.2, 0.3, 0.4, 0.5], [0.2, 0.3, 0.4, 0.5], fontsize=7)\n",
    "plt.xlabel('Suppressed Variable(s)', fontsize=7)\n",
    "plt.ylabel('Multiclass Accuracy', fontsize=7)\n",
    "\n",
    "plt.legend(bbox_to_anchor=(1.05, 1), loc=2)"
   ]
  },
  {
   "cell_type": "markdown",
   "metadata": {},
   "source": [
    "---"
   ]
  }
 ],
 "metadata": {
  "kernelspec": {
   "display_name": "Python 3",
   "language": "python",
   "name": "python3"
  },
  "language_info": {
   "codemirror_mode": {
    "name": "ipython",
    "version": 3
   },
   "file_extension": ".py",
   "mimetype": "text/x-python",
   "name": "python",
   "nbconvert_exporter": "python",
   "pygments_lexer": "ipython3",
   "version": "3.6.7"
  },
  "varInspector": {
   "cols": {
    "lenName": 16,
    "lenType": 16,
    "lenVar": 40
   },
   "kernels_config": {
    "python": {
     "delete_cmd_postfix": "",
     "delete_cmd_prefix": "del ",
     "library": "var_list.py",
     "varRefreshCmd": "print(var_dic_list())"
    },
    "r": {
     "delete_cmd_postfix": ") ",
     "delete_cmd_prefix": "rm(",
     "library": "var_list.r",
     "varRefreshCmd": "cat(var_dic_list()) "
    }
   },
   "oldHeight": 531.4,
   "position": {
    "height": "40px",
    "left": "1166px",
    "right": "20px",
    "top": "120px",
    "width": "294px"
   },
   "types_to_exclude": [
    "module",
    "function",
    "builtin_function_or_method",
    "instance",
    "_Feature"
   ],
   "varInspector_section_display": "none",
   "window_display": false
  }
 },
 "nbformat": 4,
 "nbformat_minor": 2
}
