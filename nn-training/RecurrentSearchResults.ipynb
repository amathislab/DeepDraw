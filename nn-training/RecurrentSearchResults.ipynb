{
 "cells": [
  {
   "cell_type": "code",
   "execution_count": 1,
   "metadata": {},
   "outputs": [],
   "source": [
    "import os\n",
    "import sys\n",
    "sys.path.append('../code/')\n",
    "\n",
    "from nn_models import *\n",
    "from nn_train_utils import *\n",
    "from kinematics_decoding import load_model\n",
    "from tensorflow.python import pywrap_tensorflow\n",
    "from collections import defaultdict\n",
    "import glob\n",
    "import numpy as np\n",
    "import pandas as pd\n",
    "\n",
    "%load_ext autoreload\n",
    "%autoreload 2"
   ]
  },
  {
   "cell_type": "code",
   "execution_count": 8,
   "metadata": {},
   "outputs": [],
   "source": [
    "all_models = pickle.load(open('./newconvmodels.p', 'rb'))\n",
    "best_model_arch = all_models[all_models['arch_type'] == 'spatial_temporal'].nlargest(1, 'test_accuracy')"
   ]
  },
  {
   "cell_type": "code",
   "execution_count": 9,
   "metadata": {},
   "outputs": [
    {
     "data": {
      "text/html": [
       "<div>\n",
       "<style scoped>\n",
       "    .dataframe tbody tr th:only-of-type {\n",
       "        vertical-align: middle;\n",
       "    }\n",
       "\n",
       "    .dataframe tbody tr th {\n",
       "        vertical-align: top;\n",
       "    }\n",
       "\n",
       "    .dataframe thead th {\n",
       "        text-align: right;\n",
       "    }\n",
       "</style>\n",
       "<table border=\"1\" class=\"dataframe\">\n",
       "  <thead>\n",
       "    <tr style=\"text-align: right;\">\n",
       "      <th></th>\n",
       "      <th>arch_type</th>\n",
       "      <th>nlayers</th>\n",
       "      <th>n_skernels</th>\n",
       "      <th>n_tkernels</th>\n",
       "      <th>s_kernelsize</th>\n",
       "      <th>t_kernelsize</th>\n",
       "      <th>s_stride</th>\n",
       "      <th>t_stride</th>\n",
       "      <th>validation_accuracy</th>\n",
       "      <th>test_accuracy</th>\n",
       "      <th>train_accuracy</th>\n",
       "      <th>parameters</th>\n",
       "    </tr>\n",
       "  </thead>\n",
       "  <tbody>\n",
       "    <tr>\n",
       "      <th>52</th>\n",
       "      <td>spatial_temporal</td>\n",
       "      <td>4</td>\n",
       "      <td>[8, 16, 16, 32]</td>\n",
       "      <td>[32, 32, 64, 64]</td>\n",
       "      <td>7</td>\n",
       "      <td>9</td>\n",
       "      <td>2</td>\n",
       "      <td>3</td>\n",
       "      <td>0.989604</td>\n",
       "      <td>0.989425</td>\n",
       "      <td>0.996594</td>\n",
       "      <td>80112</td>\n",
       "    </tr>\n",
       "  </tbody>\n",
       "</table>\n",
       "</div>"
      ],
      "text/plain": [
       "           arch_type  nlayers       n_skernels        n_tkernels  \\\n",
       "52  spatial_temporal        4  [8, 16, 16, 32]  [32, 32, 64, 64]   \n",
       "\n",
       "    s_kernelsize  t_kernelsize  s_stride  t_stride  validation_accuracy  \\\n",
       "52             7             9         2         3             0.989604   \n",
       "\n",
       "    test_accuracy  train_accuracy  parameters  \n",
       "52       0.989425        0.996594       80112  "
      ]
     },
     "execution_count": 9,
     "metadata": {},
     "output_type": "execute_result"
    }
   ],
   "source": [
    "best_model_arch"
   ]
  },
  {
   "cell_type": "code",
   "execution_count": 3,
   "metadata": {},
   "outputs": [],
   "source": [
    "import pickle"
   ]
  },
  {
   "cell_type": "code",
   "execution_count": 2,
   "metadata": {},
   "outputs": [],
   "source": [
    "import seaborn as sns\n",
    "import matplotlib.pyplot as plt\n",
    "\n",
    "%matplotlib inline"
   ]
  },
  {
   "cell_type": "markdown",
   "metadata": {},
   "source": [
    "**Make sure that the validation/training accuracy and test accuracy are very similar.**"
   ]
  },
  {
   "cell_type": "code",
   "execution_count": 18,
   "metadata": {},
   "outputs": [],
   "source": [
    "rec_folders = glob.glob('../../nn-training/experiment_8/*_*_*')\n",
    "\n",
    "rec_keylist = ['rec_blocktype', 'npplayers', 'nppfilters',  \n",
    "                's_kernelsize', 's_stride', 'n_recunits', \n",
    "                'validation_accuracy', 'seed']"
   ]
  },
  {
   "cell_type": "code",
   "execution_count": 19,
   "metadata": {},
   "outputs": [],
   "source": [
    "rec_dict = defaultdict(list)\n",
    "\n",
    "for folder in rec_folders:\n",
    "    try:\n",
    "        with open(os.path.join(folder, 'config.yaml')) as myfile:\n",
    "            myconfig = yaml.load(myfile)    \n",
    "    except:\n",
    "        print(folder)    \n",
    "    for key in rec_keylist:\n",
    "        rec_dict[key].append(myconfig[key])"
   ]
  },
  {
   "cell_type": "code",
   "execution_count": 20,
   "metadata": {},
   "outputs": [],
   "source": [
    "all_rec_models = pd.DataFrame(rec_dict)\n",
    "\n",
    "all_rec_models = all_rec_models.astype({'npplayers': int, \n",
    "                                        's_kernelsize':int, \n",
    "                                        'n_recunits': int, \n",
    "                                        's_stride': int})"
   ]
  },
  {
   "cell_type": "code",
   "execution_count": 13,
   "metadata": {},
   "outputs": [
    {
     "data": {
      "text/html": [
       "<div>\n",
       "<style scoped>\n",
       "    .dataframe tbody tr th:only-of-type {\n",
       "        vertical-align: middle;\n",
       "    }\n",
       "\n",
       "    .dataframe tbody tr th {\n",
       "        vertical-align: top;\n",
       "    }\n",
       "\n",
       "    .dataframe thead th {\n",
       "        text-align: right;\n",
       "    }\n",
       "</style>\n",
       "<table border=\"1\" class=\"dataframe\">\n",
       "  <thead>\n",
       "    <tr style=\"text-align: right;\">\n",
       "      <th></th>\n",
       "      <th>n_recunits</th>\n",
       "      <th>nppfilters</th>\n",
       "      <th>npplayers</th>\n",
       "      <th>rec_blocktype</th>\n",
       "      <th>s_kernelsize</th>\n",
       "      <th>s_stride</th>\n",
       "      <th>validation_accuracy</th>\n",
       "    </tr>\n",
       "  </thead>\n",
       "  <tbody>\n",
       "    <tr>\n",
       "      <th>0</th>\n",
       "      <td>256</td>\n",
       "      <td>[8, 16, 16]</td>\n",
       "      <td>3</td>\n",
       "      <td>lstm</td>\n",
       "      <td>5</td>\n",
       "      <td>1</td>\n",
       "      <td>0.000000</td>\n",
       "    </tr>\n",
       "    <tr>\n",
       "      <th>1</th>\n",
       "      <td>256</td>\n",
       "      <td>[8, 16, 16]</td>\n",
       "      <td>3</td>\n",
       "      <td>lstm</td>\n",
       "      <td>5</td>\n",
       "      <td>1</td>\n",
       "      <td>0.000000</td>\n",
       "    </tr>\n",
       "    <tr>\n",
       "      <th>2</th>\n",
       "      <td>256</td>\n",
       "      <td>[8, 16, 16]</td>\n",
       "      <td>3</td>\n",
       "      <td>lstm</td>\n",
       "      <td>5</td>\n",
       "      <td>1</td>\n",
       "      <td>0.995000</td>\n",
       "    </tr>\n",
       "    <tr>\n",
       "      <th>3</th>\n",
       "      <td>256</td>\n",
       "      <td>[8, 16, 16]</td>\n",
       "      <td>3</td>\n",
       "      <td>lstm</td>\n",
       "      <td>5</td>\n",
       "      <td>1</td>\n",
       "      <td>0.000000</td>\n",
       "    </tr>\n",
       "    <tr>\n",
       "      <th>4</th>\n",
       "      <td>256</td>\n",
       "      <td>[8, 16, 16]</td>\n",
       "      <td>3</td>\n",
       "      <td>lstm</td>\n",
       "      <td>5</td>\n",
       "      <td>1</td>\n",
       "      <td>0.000000</td>\n",
       "    </tr>\n",
       "    <tr>\n",
       "      <th>5</th>\n",
       "      <td>256</td>\n",
       "      <td>[8, 16, 16]</td>\n",
       "      <td>3</td>\n",
       "      <td>lstm</td>\n",
       "      <td>5</td>\n",
       "      <td>1</td>\n",
       "      <td>0.996250</td>\n",
       "    </tr>\n",
       "    <tr>\n",
       "      <th>6</th>\n",
       "      <td>256</td>\n",
       "      <td>[8, 16, 16]</td>\n",
       "      <td>3</td>\n",
       "      <td>lstm</td>\n",
       "      <td>5</td>\n",
       "      <td>1</td>\n",
       "      <td>0.997250</td>\n",
       "    </tr>\n",
       "    <tr>\n",
       "      <th>7</th>\n",
       "      <td>256</td>\n",
       "      <td>[8, 16, 16]</td>\n",
       "      <td>3</td>\n",
       "      <td>lstm</td>\n",
       "      <td>5</td>\n",
       "      <td>1</td>\n",
       "      <td>0.996000</td>\n",
       "    </tr>\n",
       "    <tr>\n",
       "      <th>8</th>\n",
       "      <td>256</td>\n",
       "      <td>[8, 16, 16]</td>\n",
       "      <td>3</td>\n",
       "      <td>lstm</td>\n",
       "      <td>5</td>\n",
       "      <td>1</td>\n",
       "      <td>0.000000</td>\n",
       "    </tr>\n",
       "    <tr>\n",
       "      <th>9</th>\n",
       "      <td>256</td>\n",
       "      <td>[8, 16, 16]</td>\n",
       "      <td>3</td>\n",
       "      <td>lstm</td>\n",
       "      <td>5</td>\n",
       "      <td>1</td>\n",
       "      <td>0.995875</td>\n",
       "    </tr>\n",
       "  </tbody>\n",
       "</table>\n",
       "</div>"
      ],
      "text/plain": [
       "   n_recunits   nppfilters  npplayers rec_blocktype  s_kernelsize  s_stride  \\\n",
       "0         256  [8, 16, 16]          3          lstm             5         1   \n",
       "1         256  [8, 16, 16]          3          lstm             5         1   \n",
       "2         256  [8, 16, 16]          3          lstm             5         1   \n",
       "3         256  [8, 16, 16]          3          lstm             5         1   \n",
       "4         256  [8, 16, 16]          3          lstm             5         1   \n",
       "5         256  [8, 16, 16]          3          lstm             5         1   \n",
       "6         256  [8, 16, 16]          3          lstm             5         1   \n",
       "7         256  [8, 16, 16]          3          lstm             5         1   \n",
       "8         256  [8, 16, 16]          3          lstm             5         1   \n",
       "9         256  [8, 16, 16]          3          lstm             5         1   \n",
       "\n",
       "   validation_accuracy  \n",
       "0             0.000000  \n",
       "1             0.000000  \n",
       "2             0.995000  \n",
       "3             0.000000  \n",
       "4             0.000000  \n",
       "5             0.996250  \n",
       "6             0.997250  \n",
       "7             0.996000  \n",
       "8             0.000000  \n",
       "9             0.995875  "
      ]
     },
     "execution_count": 13,
     "metadata": {},
     "output_type": "execute_result"
    }
   ],
   "source": [
    "all_rec_models"
   ]
  },
  {
   "cell_type": "code",
   "execution_count": 8,
   "metadata": {},
   "outputs": [],
   "source": [
    "# Load train dataset as test\n",
    "PATH_TO_DATA = os.path.abspath('../../dataset/')\n",
    "train_dataset = Dataset(os.path.join(PATH_TO_DATA, 'pcr_dataset_train.hdf5'), dataset_type='test', key='spindle_info')"
   ]
  },
  {
   "cell_type": "code",
   "execution_count": 9,
   "metadata": {},
   "outputs": [
    {
     "name": "stdout",
     "output_type": "stream",
     "text": [
      "INFO:tensorflow:Restoring parameters from /gpfs01/bethge/share/deep_proprioception/DeepDraw/../nn-training/experiment_6/lstm_3_8-32-32_64/model.ckpt\n",
      "INFO:tensorflow:Restoring parameters from /gpfs01/bethge/share/deep_proprioception/DeepDraw/../nn-training/experiment_6/lstm_1_8_64/model.ckpt\n",
      "INFO:tensorflow:Restoring parameters from /gpfs01/bethge/share/deep_proprioception/DeepDraw/../nn-training/experiment_6/lstm_3_16-32-32_128/model.ckpt\n",
      "INFO:tensorflow:Restoring parameters from /gpfs01/bethge/share/deep_proprioception/DeepDraw/../nn-training/experiment_6/lstm_3_16-16-16_128/model.ckpt\n",
      "INFO:tensorflow:Restoring parameters from /gpfs01/bethge/share/deep_proprioception/DeepDraw/../nn-training/experiment_6/lstm_4_8-8-32-32_256/model.ckpt\n",
      "INFO:tensorflow:Restoring parameters from /gpfs01/bethge/share/deep_proprioception/DeepDraw/../nn-training/experiment_6/lstm_2_32-32_128/model.ckpt\n",
      "INFO:tensorflow:Restoring parameters from /gpfs01/bethge/share/deep_proprioception/DeepDraw/../nn-training/experiment_6/lstm_1_32_256/model.ckpt\n",
      "INFO:tensorflow:Restoring parameters from /gpfs01/bethge/share/deep_proprioception/DeepDraw/../nn-training/experiment_6/lstm_1_32_256/model.ckpt\n",
      "INFO:tensorflow:Restoring parameters from /gpfs01/bethge/share/deep_proprioception/DeepDraw/../nn-training/experiment_6/lstm_2_8-8_64/model.ckpt\n",
      "INFO:tensorflow:Restoring parameters from /gpfs01/bethge/share/deep_proprioception/DeepDraw/../nn-training/experiment_6/lstm_1_16_32/model.ckpt\n",
      "INFO:tensorflow:Restoring parameters from /gpfs01/bethge/share/deep_proprioception/DeepDraw/../nn-training/experiment_6/lstm_2_8-16_128/model.ckpt\n",
      "INFO:tensorflow:Restoring parameters from /gpfs01/bethge/share/deep_proprioception/DeepDraw/../nn-training/experiment_6/lstm_2_8-16_32/model.ckpt\n",
      "INFO:tensorflow:Restoring parameters from /gpfs01/bethge/share/deep_proprioception/DeepDraw/../nn-training/experiment_6/lstm_2_8-16_32/model.ckpt\n",
      "INFO:tensorflow:Restoring parameters from /gpfs01/bethge/share/deep_proprioception/DeepDraw/../nn-training/experiment_6/lstm_3_8-16-16_32/model.ckpt\n",
      "INFO:tensorflow:Restoring parameters from /gpfs01/bethge/share/deep_proprioception/DeepDraw/../nn-training/experiment_6/lstm_3_8-16-16_256/model.ckpt\n",
      "INFO:tensorflow:Restoring parameters from /gpfs01/bethge/share/deep_proprioception/DeepDraw/../nn-training/experiment_6/lstm_2_8-32_128/model.ckpt\n",
      "INFO:tensorflow:Restoring parameters from /gpfs01/bethge/share/deep_proprioception/DeepDraw/../nn-training/experiment_6/lstm_4_8-16-32-32_128/model.ckpt\n",
      "INFO:tensorflow:Restoring parameters from /gpfs01/bethge/share/deep_proprioception/DeepDraw/../nn-training/experiment_6/lstm_1_8_128/model.ckpt\n",
      "INFO:tensorflow:Restoring parameters from /gpfs01/bethge/share/deep_proprioception/DeepDraw/../nn-training/experiment_6/lstm_2_16-32_64/model.ckpt\n",
      "INFO:tensorflow:Restoring parameters from /gpfs01/bethge/share/deep_proprioception/DeepDraw/../nn-training/experiment_6/lstm_2_16-32_128/model.ckpt\n",
      "INFO:tensorflow:Restoring parameters from /gpfs01/bethge/share/deep_proprioception/DeepDraw/../nn-training/experiment_6/lstm_4_16-16-32-32_256/model.ckpt\n",
      "INFO:tensorflow:Restoring parameters from /gpfs01/bethge/share/deep_proprioception/DeepDraw/../nn-training/experiment_6/lstm_4_16-16-16-32_128/model.ckpt\n",
      "INFO:tensorflow:Restoring parameters from /gpfs01/bethge/share/deep_proprioception/DeepDraw/../nn-training/experiment_6/lstm_3_8-8-32_32/model.ckpt\n",
      "INFO:tensorflow:Restoring parameters from /gpfs01/bethge/share/deep_proprioception/DeepDraw/../nn-training/experiment_6/lstm_3_8-16-32_64/model.ckpt\n",
      "INFO:tensorflow:Restoring parameters from /gpfs01/bethge/share/deep_proprioception/DeepDraw/../nn-training/experiment_6/lstm_2_32-32_32/model.ckpt\n",
      "INFO:tensorflow:Restoring parameters from /gpfs01/bethge/share/deep_proprioception/DeepDraw/../nn-training/experiment_6/lstm_3_8-16-16_64/model.ckpt\n",
      "INFO:tensorflow:Restoring parameters from /gpfs01/bethge/share/deep_proprioception/DeepDraw/../nn-training/experiment_6/lstm_1_32_64/model.ckpt\n",
      "INFO:tensorflow:Restoring parameters from /gpfs01/bethge/share/deep_proprioception/DeepDraw/../nn-training/experiment_6/lstm_3_8-16-16_128/model.ckpt\n",
      "INFO:tensorflow:Restoring parameters from /gpfs01/bethge/share/deep_proprioception/DeepDraw/../nn-training/experiment_6/lstm_1_16_64/model.ckpt\n",
      "INFO:tensorflow:Restoring parameters from /gpfs01/bethge/share/deep_proprioception/DeepDraw/../nn-training/experiment_6/lstm_1_8_256/model.ckpt\n",
      "INFO:tensorflow:Restoring parameters from /gpfs01/bethge/share/deep_proprioception/DeepDraw/../nn-training/experiment_6/lstm_3_8-8-16_32/model.ckpt\n",
      "INFO:tensorflow:Restoring parameters from /gpfs01/bethge/share/deep_proprioception/DeepDraw/../nn-training/experiment_6/lstm_3_16-32-32_64/model.ckpt\n",
      "INFO:tensorflow:Restoring parameters from /gpfs01/bethge/share/deep_proprioception/DeepDraw/../nn-training/experiment_6/lstm_2_8-32_32/model.ckpt\n",
      "INFO:tensorflow:Restoring parameters from /gpfs01/bethge/share/deep_proprioception/DeepDraw/../nn-training/experiment_6/lstm_3_16-32-32_32/model.ckpt\n",
      "INFO:tensorflow:Restoring parameters from /gpfs01/bethge/share/deep_proprioception/DeepDraw/../nn-training/experiment_6/lstm_3_8-16-32_32/model.ckpt\n",
      "INFO:tensorflow:Restoring parameters from /gpfs01/bethge/share/deep_proprioception/DeepDraw/../nn-training/experiment_6/lstm_2_8-32_64/model.ckpt\n",
      "INFO:tensorflow:Restoring parameters from /gpfs01/bethge/share/deep_proprioception/DeepDraw/../nn-training/experiment_6/lstm_3_8-8-16_128/model.ckpt\n",
      "INFO:tensorflow:Restoring parameters from /gpfs01/bethge/share/deep_proprioception/DeepDraw/../nn-training/experiment_6/lstm_1_16_128/model.ckpt\n",
      "INFO:tensorflow:Restoring parameters from /gpfs01/bethge/share/deep_proprioception/DeepDraw/../nn-training/experiment_6/lstm_2_8-8_32/model.ckpt\n",
      "INFO:tensorflow:Restoring parameters from /gpfs01/bethge/share/deep_proprioception/DeepDraw/../nn-training/experiment_6/lstm_2_8-8_128/model.ckpt\n",
      "INFO:tensorflow:Restoring parameters from /gpfs01/bethge/share/deep_proprioception/DeepDraw/../nn-training/experiment_6/lstm_3_8-32-32_128/model.ckpt\n",
      "INFO:tensorflow:Restoring parameters from /gpfs01/bethge/share/deep_proprioception/DeepDraw/../nn-training/experiment_6/lstm_3_16-16-32_128/model.ckpt\n",
      "INFO:tensorflow:Restoring parameters from /gpfs01/bethge/share/deep_proprioception/DeepDraw/../nn-training/experiment_6/lstm_3_8-8-16_64/model.ckpt\n",
      "INFO:tensorflow:Restoring parameters from /gpfs01/bethge/share/deep_proprioception/DeepDraw/../nn-training/experiment_6/lstm_1_32_32/model.ckpt\n",
      "INFO:tensorflow:Restoring parameters from /gpfs01/bethge/share/deep_proprioception/DeepDraw/../nn-training/experiment_6/lstm_3_16-16-16_32/model.ckpt\n"
     ]
    }
   ],
   "source": [
    "rec_train_accuracies = [evaluate_model(\n",
    "    load_model(all_rec_models.iloc[i], 6, 'rec', is_trained=True), train_dataset) for i in range(all_rec_models.shape[0])]"
   ]
  },
  {
   "cell_type": "code",
   "execution_count": 6,
   "metadata": {},
   "outputs": [
    {
     "name": "stdout",
     "output_type": "stream",
     "text": [
      "INFO:tensorflow:Restoring parameters from /gpfs01/bethge/share/deep_proprioception/DeepDraw/../nn-training/experiment_6/lstm_3_8-16-16_256/model.ckpt\n",
      "INFO:tensorflow:Restoring parameters from /gpfs01/bethge/share/deep_proprioception/DeepDraw/../nn-training/experiment_6/lstm_3_8-16-16_256/model.ckpt\n"
     ]
    },
    {
     "ename": "KeyboardInterrupt",
     "evalue": "",
     "output_type": "error",
     "traceback": [
      "\u001b[0;31m---------------------------------------------------------------------------\u001b[0m",
      "\u001b[0;31mKeyboardInterrupt\u001b[0m                         Traceback (most recent call last)",
      "\u001b[0;32m<ipython-input-6-7361ffc0eeb4>\u001b[0m in \u001b[0;36m<module>\u001b[0;34m()\u001b[0m\n\u001b[1;32m      4\u001b[0m \u001b[0;34m\u001b[0m\u001b[0m\n\u001b[1;32m      5\u001b[0m rec_test_accuracies = [evaluate_model(\n\u001b[0;32m----> 6\u001b[0;31m     load_model(all_rec_models.iloc[i], 6, 'rec', is_trained=True), test_dataset) for i in range(all_rec_models.shape[0])]\n\u001b[0m",
      "\u001b[0;32m<ipython-input-6-7361ffc0eeb4>\u001b[0m in \u001b[0;36m<listcomp>\u001b[0;34m(.0)\u001b[0m\n\u001b[1;32m      4\u001b[0m \u001b[0;34m\u001b[0m\u001b[0m\n\u001b[1;32m      5\u001b[0m rec_test_accuracies = [evaluate_model(\n\u001b[0;32m----> 6\u001b[0;31m     load_model(all_rec_models.iloc[i], 6, 'rec', is_trained=True), test_dataset) for i in range(all_rec_models.shape[0])]\n\u001b[0m",
      "\u001b[0;32m~/DeepDraw/code/nn_train_utils.py\u001b[0m in \u001b[0;36mevaluate_model\u001b[0;34m(model, dataset, batch_size)\u001b[0m\n\u001b[1;32m    347\u001b[0m             \u001b[0;32mfor\u001b[0m \u001b[0mstep\u001b[0m \u001b[0;32min\u001b[0m \u001b[0mrange\u001b[0m\u001b[0;34m(\u001b[0m\u001b[0mnum_steps\u001b[0m\u001b[0;34m)\u001b[0m\u001b[0;34m:\u001b[0m\u001b[0;34m\u001b[0m\u001b[0m\n\u001b[1;32m    348\u001b[0m                 \u001b[0mbatch_x\u001b[0m\u001b[0;34m,\u001b[0m \u001b[0mbatch_y\u001b[0m \u001b[0;34m=\u001b[0m \u001b[0mdataset\u001b[0m\u001b[0;34m.\u001b[0m\u001b[0mnext_valbatch\u001b[0m\u001b[0;34m(\u001b[0m\u001b[0mbatch_size\u001b[0m\u001b[0;34m,\u001b[0m \u001b[0;34m'test'\u001b[0m\u001b[0;34m,\u001b[0m \u001b[0mstep\u001b[0m\u001b[0;34m)\u001b[0m\u001b[0;34m\u001b[0m\u001b[0m\n\u001b[0;32m--> 349\u001b[0;31m                 \u001b[0macc\u001b[0m \u001b[0;34m=\u001b[0m \u001b[0msess\u001b[0m\u001b[0;34m.\u001b[0m\u001b[0mrun\u001b[0m\u001b[0;34m(\u001b[0m\u001b[0;34m[\u001b[0m\u001b[0maccuracy\u001b[0m\u001b[0;34m]\u001b[0m\u001b[0;34m,\u001b[0m \u001b[0mfeed_dict\u001b[0m\u001b[0;34m=\u001b[0m\u001b[0;34m{\u001b[0m\u001b[0mX\u001b[0m\u001b[0;34m:\u001b[0m \u001b[0mbatch_x\u001b[0m \u001b[0;34m-\u001b[0m \u001b[0mtrain_mean\u001b[0m\u001b[0;34m,\u001b[0m \u001b[0my\u001b[0m\u001b[0;34m:\u001b[0m \u001b[0mbatch_y\u001b[0m\u001b[0;34m}\u001b[0m\u001b[0;34m)\u001b[0m\u001b[0;34m\u001b[0m\u001b[0m\n\u001b[0m\u001b[1;32m    350\u001b[0m                 \u001b[0mtest_accuracy\u001b[0m\u001b[0;34m.\u001b[0m\u001b[0mappend\u001b[0m\u001b[0;34m(\u001b[0m\u001b[0macc\u001b[0m\u001b[0;34m)\u001b[0m\u001b[0;34m\u001b[0m\u001b[0m\n\u001b[1;32m    351\u001b[0m \u001b[0;34m\u001b[0m\u001b[0m\n",
      "\u001b[0;32m/usr/local/lib/python3.6/dist-packages/tensorflow/python/client/session.py\u001b[0m in \u001b[0;36mrun\u001b[0;34m(self, fetches, feed_dict, options, run_metadata)\u001b[0m\n\u001b[1;32m    893\u001b[0m     \u001b[0;32mtry\u001b[0m\u001b[0;34m:\u001b[0m\u001b[0;34m\u001b[0m\u001b[0m\n\u001b[1;32m    894\u001b[0m       result = self._run(None, fetches, feed_dict, options_ptr,\n\u001b[0;32m--> 895\u001b[0;31m                          run_metadata_ptr)\n\u001b[0m\u001b[1;32m    896\u001b[0m       \u001b[0;32mif\u001b[0m \u001b[0mrun_metadata\u001b[0m\u001b[0;34m:\u001b[0m\u001b[0;34m\u001b[0m\u001b[0m\n\u001b[1;32m    897\u001b[0m         \u001b[0mproto_data\u001b[0m \u001b[0;34m=\u001b[0m \u001b[0mtf_session\u001b[0m\u001b[0;34m.\u001b[0m\u001b[0mTF_GetBuffer\u001b[0m\u001b[0;34m(\u001b[0m\u001b[0mrun_metadata_ptr\u001b[0m\u001b[0;34m)\u001b[0m\u001b[0;34m\u001b[0m\u001b[0m\n",
      "\u001b[0;32m/usr/local/lib/python3.6/dist-packages/tensorflow/python/client/session.py\u001b[0m in \u001b[0;36m_run\u001b[0;34m(self, handle, fetches, feed_dict, options, run_metadata)\u001b[0m\n\u001b[1;32m   1126\u001b[0m     \u001b[0;32mif\u001b[0m \u001b[0mfinal_fetches\u001b[0m \u001b[0;32mor\u001b[0m \u001b[0mfinal_targets\u001b[0m \u001b[0;32mor\u001b[0m \u001b[0;34m(\u001b[0m\u001b[0mhandle\u001b[0m \u001b[0;32mand\u001b[0m \u001b[0mfeed_dict_tensor\u001b[0m\u001b[0;34m)\u001b[0m\u001b[0;34m:\u001b[0m\u001b[0;34m\u001b[0m\u001b[0m\n\u001b[1;32m   1127\u001b[0m       results = self._do_run(handle, final_targets, final_fetches,\n\u001b[0;32m-> 1128\u001b[0;31m                              feed_dict_tensor, options, run_metadata)\n\u001b[0m\u001b[1;32m   1129\u001b[0m     \u001b[0;32melse\u001b[0m\u001b[0;34m:\u001b[0m\u001b[0;34m\u001b[0m\u001b[0m\n\u001b[1;32m   1130\u001b[0m       \u001b[0mresults\u001b[0m \u001b[0;34m=\u001b[0m \u001b[0;34m[\u001b[0m\u001b[0;34m]\u001b[0m\u001b[0;34m\u001b[0m\u001b[0m\n",
      "\u001b[0;32m/usr/local/lib/python3.6/dist-packages/tensorflow/python/client/session.py\u001b[0m in \u001b[0;36m_do_run\u001b[0;34m(self, handle, target_list, fetch_list, feed_dict, options, run_metadata)\u001b[0m\n\u001b[1;32m   1342\u001b[0m     \u001b[0;32mif\u001b[0m \u001b[0mhandle\u001b[0m \u001b[0;32mis\u001b[0m \u001b[0;32mNone\u001b[0m\u001b[0;34m:\u001b[0m\u001b[0;34m\u001b[0m\u001b[0m\n\u001b[1;32m   1343\u001b[0m       return self._do_call(_run_fn, self._session, feeds, fetches, targets,\n\u001b[0;32m-> 1344\u001b[0;31m                            options, run_metadata)\n\u001b[0m\u001b[1;32m   1345\u001b[0m     \u001b[0;32melse\u001b[0m\u001b[0;34m:\u001b[0m\u001b[0;34m\u001b[0m\u001b[0m\n\u001b[1;32m   1346\u001b[0m       \u001b[0;32mreturn\u001b[0m \u001b[0mself\u001b[0m\u001b[0;34m.\u001b[0m\u001b[0m_do_call\u001b[0m\u001b[0;34m(\u001b[0m\u001b[0m_prun_fn\u001b[0m\u001b[0;34m,\u001b[0m \u001b[0mself\u001b[0m\u001b[0;34m.\u001b[0m\u001b[0m_session\u001b[0m\u001b[0;34m,\u001b[0m \u001b[0mhandle\u001b[0m\u001b[0;34m,\u001b[0m \u001b[0mfeeds\u001b[0m\u001b[0;34m,\u001b[0m \u001b[0mfetches\u001b[0m\u001b[0;34m)\u001b[0m\u001b[0;34m\u001b[0m\u001b[0m\n",
      "\u001b[0;32m/usr/local/lib/python3.6/dist-packages/tensorflow/python/client/session.py\u001b[0m in \u001b[0;36m_do_call\u001b[0;34m(self, fn, *args)\u001b[0m\n\u001b[1;32m   1348\u001b[0m   \u001b[0;32mdef\u001b[0m \u001b[0m_do_call\u001b[0m\u001b[0;34m(\u001b[0m\u001b[0mself\u001b[0m\u001b[0;34m,\u001b[0m \u001b[0mfn\u001b[0m\u001b[0;34m,\u001b[0m \u001b[0;34m*\u001b[0m\u001b[0margs\u001b[0m\u001b[0;34m)\u001b[0m\u001b[0;34m:\u001b[0m\u001b[0;34m\u001b[0m\u001b[0m\n\u001b[1;32m   1349\u001b[0m     \u001b[0;32mtry\u001b[0m\u001b[0;34m:\u001b[0m\u001b[0;34m\u001b[0m\u001b[0m\n\u001b[0;32m-> 1350\u001b[0;31m       \u001b[0;32mreturn\u001b[0m \u001b[0mfn\u001b[0m\u001b[0;34m(\u001b[0m\u001b[0;34m*\u001b[0m\u001b[0margs\u001b[0m\u001b[0;34m)\u001b[0m\u001b[0;34m\u001b[0m\u001b[0m\n\u001b[0m\u001b[1;32m   1351\u001b[0m     \u001b[0;32mexcept\u001b[0m \u001b[0merrors\u001b[0m\u001b[0;34m.\u001b[0m\u001b[0mOpError\u001b[0m \u001b[0;32mas\u001b[0m \u001b[0me\u001b[0m\u001b[0;34m:\u001b[0m\u001b[0;34m\u001b[0m\u001b[0m\n\u001b[1;32m   1352\u001b[0m       \u001b[0mmessage\u001b[0m \u001b[0;34m=\u001b[0m \u001b[0mcompat\u001b[0m\u001b[0;34m.\u001b[0m\u001b[0mas_text\u001b[0m\u001b[0;34m(\u001b[0m\u001b[0me\u001b[0m\u001b[0;34m.\u001b[0m\u001b[0mmessage\u001b[0m\u001b[0;34m)\u001b[0m\u001b[0;34m\u001b[0m\u001b[0m\n",
      "\u001b[0;32m/usr/local/lib/python3.6/dist-packages/tensorflow/python/client/session.py\u001b[0m in \u001b[0;36m_run_fn\u001b[0;34m(session, feed_dict, fetch_list, target_list, options, run_metadata)\u001b[0m\n\u001b[1;32m   1327\u001b[0m           return tf_session.TF_Run(session, options,\n\u001b[1;32m   1328\u001b[0m                                    \u001b[0mfeed_dict\u001b[0m\u001b[0;34m,\u001b[0m \u001b[0mfetch_list\u001b[0m\u001b[0;34m,\u001b[0m \u001b[0mtarget_list\u001b[0m\u001b[0;34m,\u001b[0m\u001b[0;34m\u001b[0m\u001b[0m\n\u001b[0;32m-> 1329\u001b[0;31m                                    status, run_metadata)\n\u001b[0m\u001b[1;32m   1330\u001b[0m \u001b[0;34m\u001b[0m\u001b[0m\n\u001b[1;32m   1331\u001b[0m     \u001b[0;32mdef\u001b[0m \u001b[0m_prun_fn\u001b[0m\u001b[0;34m(\u001b[0m\u001b[0msession\u001b[0m\u001b[0;34m,\u001b[0m \u001b[0mhandle\u001b[0m\u001b[0;34m,\u001b[0m \u001b[0mfeed_dict\u001b[0m\u001b[0;34m,\u001b[0m \u001b[0mfetch_list\u001b[0m\u001b[0;34m)\u001b[0m\u001b[0;34m:\u001b[0m\u001b[0;34m\u001b[0m\u001b[0m\n",
      "\u001b[0;31mKeyboardInterrupt\u001b[0m: "
     ]
    }
   ],
   "source": [
    "# Load test dataset\n",
    "PATH_TO_DATA = os.path.abspath('../../dataset/')\n",
    "test_dataset = Dataset(os.path.join(PATH_TO_DATA, 'pcr_dataset_test.hdf5'), dataset_type='test', key='spindle_info')\n",
    "\n",
    "rec_test_accuracies = [evaluate_model(\n",
    "    load_model(all_rec_models.iloc[i], 6, 'rec', is_trained=True), test_dataset) for i in range(all_rec_models.shape[0])]"
   ]
  },
  {
   "cell_type": "code",
   "execution_count": 14,
   "metadata": {},
   "outputs": [
    {
     "data": {
      "text/html": [
       "<div>\n",
       "<style scoped>\n",
       "    .dataframe tbody tr th:only-of-type {\n",
       "        vertical-align: middle;\n",
       "    }\n",
       "\n",
       "    .dataframe tbody tr th {\n",
       "        vertical-align: top;\n",
       "    }\n",
       "\n",
       "    .dataframe thead th {\n",
       "        text-align: right;\n",
       "    }\n",
       "</style>\n",
       "<table border=\"1\" class=\"dataframe\">\n",
       "  <thead>\n",
       "    <tr style=\"text-align: right;\">\n",
       "      <th></th>\n",
       "      <th>n_recunits</th>\n",
       "      <th>nppfilters</th>\n",
       "      <th>npplayers</th>\n",
       "      <th>rec_blocktype</th>\n",
       "      <th>s_kernelsize</th>\n",
       "      <th>s_stride</th>\n",
       "      <th>validation_accuracy</th>\n",
       "    </tr>\n",
       "  </thead>\n",
       "  <tbody>\n",
       "    <tr>\n",
       "      <th>0</th>\n",
       "      <td>256</td>\n",
       "      <td>[8, 16, 16]</td>\n",
       "      <td>3</td>\n",
       "      <td>lstm</td>\n",
       "      <td>5</td>\n",
       "      <td>1</td>\n",
       "      <td>0.000000</td>\n",
       "    </tr>\n",
       "    <tr>\n",
       "      <th>1</th>\n",
       "      <td>256</td>\n",
       "      <td>[8, 16, 16]</td>\n",
       "      <td>3</td>\n",
       "      <td>lstm</td>\n",
       "      <td>5</td>\n",
       "      <td>1</td>\n",
       "      <td>0.000000</td>\n",
       "    </tr>\n",
       "    <tr>\n",
       "      <th>2</th>\n",
       "      <td>256</td>\n",
       "      <td>[8, 16, 16]</td>\n",
       "      <td>3</td>\n",
       "      <td>lstm</td>\n",
       "      <td>5</td>\n",
       "      <td>1</td>\n",
       "      <td>0.995000</td>\n",
       "    </tr>\n",
       "    <tr>\n",
       "      <th>3</th>\n",
       "      <td>256</td>\n",
       "      <td>[8, 16, 16]</td>\n",
       "      <td>3</td>\n",
       "      <td>lstm</td>\n",
       "      <td>5</td>\n",
       "      <td>1</td>\n",
       "      <td>0.000000</td>\n",
       "    </tr>\n",
       "    <tr>\n",
       "      <th>4</th>\n",
       "      <td>256</td>\n",
       "      <td>[8, 16, 16]</td>\n",
       "      <td>3</td>\n",
       "      <td>lstm</td>\n",
       "      <td>5</td>\n",
       "      <td>1</td>\n",
       "      <td>0.000000</td>\n",
       "    </tr>\n",
       "    <tr>\n",
       "      <th>5</th>\n",
       "      <td>256</td>\n",
       "      <td>[8, 16, 16]</td>\n",
       "      <td>3</td>\n",
       "      <td>lstm</td>\n",
       "      <td>5</td>\n",
       "      <td>1</td>\n",
       "      <td>0.996250</td>\n",
       "    </tr>\n",
       "    <tr>\n",
       "      <th>6</th>\n",
       "      <td>256</td>\n",
       "      <td>[8, 16, 16]</td>\n",
       "      <td>3</td>\n",
       "      <td>lstm</td>\n",
       "      <td>5</td>\n",
       "      <td>1</td>\n",
       "      <td>0.997250</td>\n",
       "    </tr>\n",
       "    <tr>\n",
       "      <th>7</th>\n",
       "      <td>256</td>\n",
       "      <td>[8, 16, 16]</td>\n",
       "      <td>3</td>\n",
       "      <td>lstm</td>\n",
       "      <td>5</td>\n",
       "      <td>1</td>\n",
       "      <td>0.996000</td>\n",
       "    </tr>\n",
       "    <tr>\n",
       "      <th>8</th>\n",
       "      <td>256</td>\n",
       "      <td>[8, 16, 16]</td>\n",
       "      <td>3</td>\n",
       "      <td>lstm</td>\n",
       "      <td>5</td>\n",
       "      <td>1</td>\n",
       "      <td>0.000000</td>\n",
       "    </tr>\n",
       "    <tr>\n",
       "      <th>9</th>\n",
       "      <td>256</td>\n",
       "      <td>[8, 16, 16]</td>\n",
       "      <td>3</td>\n",
       "      <td>lstm</td>\n",
       "      <td>5</td>\n",
       "      <td>1</td>\n",
       "      <td>0.995875</td>\n",
       "    </tr>\n",
       "  </tbody>\n",
       "</table>\n",
       "</div>"
      ],
      "text/plain": [
       "   n_recunits   nppfilters  npplayers rec_blocktype  s_kernelsize  s_stride  \\\n",
       "0         256  [8, 16, 16]          3          lstm             5         1   \n",
       "1         256  [8, 16, 16]          3          lstm             5         1   \n",
       "2         256  [8, 16, 16]          3          lstm             5         1   \n",
       "3         256  [8, 16, 16]          3          lstm             5         1   \n",
       "4         256  [8, 16, 16]          3          lstm             5         1   \n",
       "5         256  [8, 16, 16]          3          lstm             5         1   \n",
       "6         256  [8, 16, 16]          3          lstm             5         1   \n",
       "7         256  [8, 16, 16]          3          lstm             5         1   \n",
       "8         256  [8, 16, 16]          3          lstm             5         1   \n",
       "9         256  [8, 16, 16]          3          lstm             5         1   \n",
       "\n",
       "   validation_accuracy  \n",
       "0             0.000000  \n",
       "1             0.000000  \n",
       "2             0.995000  \n",
       "3             0.000000  \n",
       "4             0.000000  \n",
       "5             0.996250  \n",
       "6             0.997250  \n",
       "7             0.996000  \n",
       "8             0.000000  \n",
       "9             0.995875  "
      ]
     },
     "execution_count": 14,
     "metadata": {},
     "output_type": "execute_result"
    }
   ],
   "source": [
    "all_rec_models"
   ]
  },
  {
   "cell_type": "code",
   "execution_count": 21,
   "metadata": {},
   "outputs": [],
   "source": [
    "model = load_model(all_rec_models.iloc[0], 8, 'rec', is_trained=True)\n",
    "path_to_ckptfile = os.path.join(model.model_path, 'model.ckpt')\n",
    "ckptReader = pywrap_tensorflow.NewCheckpointReader(path_to_ckptfile)\n",
    "shape_map = ckptReader.get_variable_to_shape_map()"
   ]
  },
  {
   "cell_type": "code",
   "execution_count": 23,
   "metadata": {},
   "outputs": [
    {
     "data": {
      "text/plain": [
       "{'CPU': False,\n",
       " 'experiment_id': 8,\n",
       " 'is_training': True,\n",
       " 'model_path': '/gpfs01/bethge/share/deep_proprioception/DeepDraw/../nn-training/experiment_8/lstm_3_8-16-16_256_1',\n",
       " 'n_recunits': 256,\n",
       " 'name': 'lstm_3_8-16-16_256_1',\n",
       " 'nclasses': 20,\n",
       " 'nppfilters': [8, 16, 16],\n",
       " 'npplayers': 3,\n",
       " 'num_parameters': 0,\n",
       " 'rec_blocktype': 'lstm',\n",
       " 's_kernelsize': 5,\n",
       " 's_stride': 1,\n",
       " 'seed': 1}"
      ]
     },
     "execution_count": 23,
     "metadata": {},
     "output_type": "execute_result"
    }
   ],
   "source": [
    "model.__dict__"
   ]
  },
  {
   "cell_type": "code",
   "execution_count": 22,
   "metadata": {},
   "outputs": [
    {
     "data": {
      "text/plain": [
       "{'Network/Classifier/biases': [20],\n",
       " 'Network/Classifier/biases/Adam': [20],\n",
       " 'Network/Classifier/biases/Adam_1': [20],\n",
       " 'Network/Classifier/weights': [256, 20],\n",
       " 'Network/Classifier/weights/Adam': [256, 20],\n",
       " 'Network/Classifier/weights/Adam_1': [256, 20],\n",
       " 'Network/RecurrentBlock/opaque_kernel': [673792],\n",
       " 'Network/RecurrentBlock/opaque_kernel/Adam': [673792],\n",
       " 'Network/RecurrentBlock/opaque_kernel/Adam_1': [673792],\n",
       " 'Network/Spatial0/LayerNorm/beta': [8],\n",
       " 'Network/Spatial0/LayerNorm/beta/Adam': [8],\n",
       " 'Network/Spatial0/LayerNorm/beta/Adam_1': [8],\n",
       " 'Network/Spatial0/LayerNorm/gamma': [8],\n",
       " 'Network/Spatial0/LayerNorm/gamma/Adam': [8],\n",
       " 'Network/Spatial0/LayerNorm/gamma/Adam_1': [8],\n",
       " 'Network/Spatial0/weights': [5, 1, 2, 8],\n",
       " 'Network/Spatial0/weights/Adam': [5, 1, 2, 8],\n",
       " 'Network/Spatial0/weights/Adam_1': [5, 1, 2, 8],\n",
       " 'Network/Spatial1/LayerNorm/beta': [16],\n",
       " 'Network/Spatial1/LayerNorm/beta/Adam': [16],\n",
       " 'Network/Spatial1/LayerNorm/beta/Adam_1': [16],\n",
       " 'Network/Spatial1/LayerNorm/gamma': [16],\n",
       " 'Network/Spatial1/LayerNorm/gamma/Adam': [16],\n",
       " 'Network/Spatial1/LayerNorm/gamma/Adam_1': [16],\n",
       " 'Network/Spatial1/weights': [5, 1, 8, 16],\n",
       " 'Network/Spatial1/weights/Adam': [5, 1, 8, 16],\n",
       " 'Network/Spatial1/weights/Adam_1': [5, 1, 8, 16],\n",
       " 'Network/Spatial2/LayerNorm/beta': [16],\n",
       " 'Network/Spatial2/LayerNorm/beta/Adam': [16],\n",
       " 'Network/Spatial2/LayerNorm/beta/Adam_1': [16],\n",
       " 'Network/Spatial2/LayerNorm/gamma': [16],\n",
       " 'Network/Spatial2/LayerNorm/gamma/Adam': [16],\n",
       " 'Network/Spatial2/LayerNorm/gamma/Adam_1': [16],\n",
       " 'Network/Spatial2/weights': [5, 1, 16, 16],\n",
       " 'Network/Spatial2/weights/Adam': [5, 1, 16, 16],\n",
       " 'Network/Spatial2/weights/Adam_1': [5, 1, 16, 16],\n",
       " 'beta1_power': [],\n",
       " 'beta2_power': []}"
      ]
     },
     "execution_count": 22,
     "metadata": {},
     "output_type": "execute_result"
    }
   ],
   "source": [
    "shape_map"
   ]
  },
  {
   "cell_type": "code",
   "execution_count": 11,
   "metadata": {},
   "outputs": [],
   "source": [
    "rec_val_accuracies = all_rec_models['validation_accuracy'].tolist()\n",
    "all_rec_models['test_accuracy'] = pd.Series(rec_test_accuracies)\n",
    "all_rec_models['train_accuracy'] = pd.Series(rec_train_accuracies)"
   ]
  },
  {
   "cell_type": "code",
   "execution_count": 12,
   "metadata": {},
   "outputs": [],
   "source": [
    "def num_parameters(model_path):\n",
    "    path_to_ckptfile = os.path.join(model_path, 'model.ckpt')\n",
    "    ckptReader = pywrap_tensorflow.NewCheckpointReader(path_to_ckptfile)\n",
    "    shape_map = ckptReader.get_variable_to_shape_map()\n",
    "    all_keys = list(shape_map.keys())\n",
    "    weight_keys = [key for key in all_keys if 'weights' in key or 'opaque_kernel' in key]\n",
    "    useful_keys = [key for key in weight_keys if 'Adam' not in key]\n",
    "    useful_keys = [key for key in useful_keys if 'Classifier' not in key]\n",
    "    num_parameters = 0\n",
    "    for key in useful_keys:\n",
    "        num_parameters += np.product(shape_map[key])\n",
    "        \n",
    "    if num_parameters == np.nan:\n",
    "        print('Number of parameters could not be computed!!')\n",
    "        \n",
    "    return num_parameters\n",
    "\n",
    "num_pars_rec = []\n",
    "for i in range(all_rec_models.shape[0]):\n",
    "    mymodel = load_model(all_rec_models.iloc[i], 6, 'rec', True)\n",
    "    num_pars_rec.append(num_parameters(mymodel.model_path))\n",
    "\n",
    "all_rec_models['parameters'] = pd.Series(num_pars_rec, index=all_rec_models.index, dtype=int)"
   ]
  },
  {
   "cell_type": "code",
   "execution_count": 14,
   "metadata": {},
   "outputs": [],
   "source": [
    "all_rec_models.to_pickle('recmodels.p')"
   ]
  },
  {
   "cell_type": "code",
   "execution_count": 15,
   "metadata": {},
   "outputs": [],
   "source": [
    "import pickle\n",
    "a = pickle.load(open('recmodels.p', 'rb'))"
   ]
  },
  {
   "cell_type": "code",
   "execution_count": 31,
   "metadata": {},
   "outputs": [
    {
     "data": {
      "text/plain": [
       "(0.76, 1.01)"
      ]
     },
     "execution_count": 31,
     "metadata": {},
     "output_type": "execute_result"
    },
    {
     "data": {
      "image/png": "[encoded data removed]",
      "text/plain": [
       "<matplotlib.figure.Figure at 0x7f75b6b048d0>"
      ]
     },
     "metadata": {},
     "output_type": "display_data"
    }
   ],
   "source": [
    "sns.swarmplot(x='npplayers', y='test_accuracy', data=a, color='C0')\n",
    "sns.despine()\n",
    "plt.ylim([0.76, 1.01])\n",
    "# sns.swarmplot(x=a['nlayers']+0.4, y='test_accuracy', data=a[a['arch_type']=='spatial_temporal'], color='C1')"
   ]
  },
  {
   "cell_type": "code",
   "execution_count": 20,
   "metadata": {},
   "outputs": [],
   "source": [
    "b = pickle.load(open('convmodels_2.p', 'rb'))"
   ]
  },
  {
   "cell_type": "code",
   "execution_count": 33,
   "metadata": {},
   "outputs": [
    {
     "name": "stderr",
     "output_type": "stream",
     "text": [
      "/usr/local/lib/python3.6/dist-packages/matplotlib/cbook/__init__.py:2019: FutureWarning: Support for multi-dimensional indexing (e.g. `obj[:, None]`) is deprecated and will be removed in a future version.  Convert to a numpy array before indexing instead.\n",
      "  x[:, None]\n",
      "/usr/local/lib/python3.6/dist-packages/matplotlib/axes/_base.py:249: FutureWarning: Support for multi-dimensional indexing (e.g. `obj[:, None]`) is deprecated and will be removed in a future version.  Convert to a numpy array before indexing instead.\n",
      "  x = x[:, np.newaxis]\n",
      "/usr/local/lib/python3.6/dist-packages/matplotlib/axes/_base.py:251: FutureWarning: Support for multi-dimensional indexing (e.g. `obj[:, None]`) is deprecated and will be removed in a future version.  Convert to a numpy array before indexing instead.\n",
      "  y = y[:, np.newaxis]\n"
     ]
    },
    {
     "data": {
      "image/png": "[encoded data removed]",
      "text/plain": [
       "<matplotlib.figure.Figure at 0x7f71bc6137b8>"
      ]
     },
     "metadata": {},
     "output_type": "display_data"
    }
   ],
   "source": [
    "plt.plot(a['parameters'], a['test_accuracy'], 'ro')\n",
    "plt.plot(b['parameters'], b['test_accuracy'], 'o')\n",
    "plt.xscale('log')\n",
    "plt.xlabel('Number of parameters'); plt.ylabel('Test accuracy')\n",
    "plt.legend(['LSTM', 'S_T']); sns.despine()"
   ]
  },
  {
   "cell_type": "code",
   "execution_count": null,
   "metadata": {},
   "outputs": [],
   "source": []
  }
 ],
 "metadata": {
  "kernelspec": {
   "display_name": "Python 3",
   "language": "python",
   "name": "python3"
  },
  "language_info": {
   "codemirror_mode": {
    "name": "ipython",
    "version": 3
   },
   "file_extension": ".py",
   "mimetype": "text/x-python",
   "name": "python",
   "nbconvert_exporter": "python",
   "pygments_lexer": "ipython3",
   "version": "3.6.3"
  },
  "varInspector": {
   "cols": {
    "lenName": 16,
    "lenType": 16,
    "lenVar": 40
   },
   "kernels_config": {
    "python": {
     "delete_cmd_postfix": "",
     "delete_cmd_prefix": "del ",
     "library": "var_list.py",
     "varRefreshCmd": "print(var_dic_list())"
    },
    "r": {
     "delete_cmd_postfix": ") ",
     "delete_cmd_prefix": "rm(",
     "library": "var_list.r",
     "varRefreshCmd": "cat(var_dic_list()) "
    }
   },
   "oldHeight": 332.4,
   "position": {
    "height": "40px",
    "left": "1166px",
    "right": "20px",
    "top": "121px",
    "width": "350px"
   },
   "types_to_exclude": [
    "module",
    "function",
    "builtin_function_or_method",
    "instance",
    "_Feature"
   ],
   "varInspector_section_display": "none",
   "window_display": false
  }
 },
 "nbformat": 4,
 "nbformat_minor": 2
}
