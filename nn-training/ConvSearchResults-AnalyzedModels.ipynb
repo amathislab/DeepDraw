{
 "cells": [
  {
   "cell_type": "code",
   "execution_count": 1,
   "metadata": {},
   "outputs": [],
   "source": [
    "import os\n",
    "import sys\n",
    "sys.path.append('../code/')\n",
    "\n",
    "from nn_models import *\n",
    "from nn_train_utils import *\n",
    "from kinematics_decoding import load_model\n",
    "\n",
    "from collections import defaultdict\n",
    "import glob\n",
    "import numpy as np\n",
    "import pandas as pd\n",
    "\n",
    "%load_ext autoreload\n",
    "%autoreload 2"
   ]
  },
  {
   "cell_type": "code",
   "execution_count": 5,
   "metadata": {},
   "outputs": [],
   "source": [
    "conv_folders = glob.glob('../../nn-training/experiment_7/*_*_*')\n",
    "\n",
    "conv_keylist = ['arch_type', 'nlayers', 'n_skernels', 'n_tkernels', \n",
    "                's_kernelsize', 't_kernelsize', 's_stride', 't_stride', 'is_trained', 'seed',\n",
    "                'validation_accuracy']"
   ]
  },
  {
   "cell_type": "code",
   "execution_count": 6,
   "metadata": {},
   "outputs": [],
   "source": [
    "conv_dict = defaultdict(list)\n",
    "\n",
    "for folder in conv_folders:\n",
    "    try:\n",
    "        with open(os.path.join(folder, 'config.yaml')) as myfile:\n",
    "            myconfig = yaml.load(myfile)    \n",
    "    except:\n",
    "        print(folder)    \n",
    "    for key in conv_keylist:\n",
    "        try:\n",
    "            conv_dict[key].append(myconfig[key])\n",
    "        except:\n",
    "            if key == 'is_trained':\n",
    "                if folder[-1] == 'r':\n",
    "                    conv_dict[key].append(False)\n",
    "                else:\n",
    "                    conv_dict[key].append(True)"
   ]
  },
  {
   "cell_type": "code",
   "execution_count": 7,
   "metadata": {},
   "outputs": [],
   "source": [
    "all_conv_models = pd.DataFrame(conv_dict)\n",
    "\n",
    "all_conv_models = all_conv_models.astype({'nlayers': int, \n",
    "                                          's_kernelsize':int, \n",
    "                                          't_kernelsize': int, \n",
    "                                          's_stride': int, \n",
    "                                          't_stride': int})"
   ]
  },
  {
   "cell_type": "code",
   "execution_count": 11,
   "metadata": {},
   "outputs": [],
   "source": [
    "# Load train dataset as test\n",
    "PATH_TO_DATA = os.path.abspath('../../dataset/')\n",
    "train_dataset = Dataset(os.path.join(PATH_TO_DATA, 'pcr_dataset_train.hdf5'), dataset_type='test', key='spindle_info')"
   ]
  },
  {
   "cell_type": "code",
   "execution_count": 12,
   "metadata": {},
   "outputs": [
    {
     "name": "stdout",
     "output_type": "stream",
     "text": [
      "INFO:tensorflow:Restoring parameters from /gpfs01/bethge/share/deep_proprioception/DeepDraw/../nn-training/experiment_7/spatial_temporal_4_8-16-16-32_32-32-64-64_7293_2r/model.ckpt\n",
      "INFO:tensorflow:Restoring parameters from /gpfs01/bethge/share/deep_proprioception/DeepDraw/../nn-training/experiment_7/spatial_temporal_4_8-16-16-32_32-32-64-64_7293_5r/model.ckpt\n",
      "INFO:tensorflow:Restoring parameters from /gpfs01/bethge/share/deep_proprioception/DeepDraw/../nn-training/experiment_7/spatial_temporal_4_8-16-16-32_32-32-64-64_7293_3r/model.ckpt\n",
      "INFO:tensorflow:Restoring parameters from /gpfs01/bethge/share/deep_proprioception/DeepDraw/../nn-training/experiment_7/spatial_temporal_4_8-16-16-32_32-32-64-64_7293_1/model.ckpt\n",
      "INFO:tensorflow:Restoring parameters from /gpfs01/bethge/share/deep_proprioception/DeepDraw/../nn-training/experiment_7/spatiotemporal_4_8-8-32-64_7272_1r/model.ckpt\n",
      "INFO:tensorflow:Restoring parameters from /gpfs01/bethge/share/deep_proprioception/DeepDraw/../nn-training/experiment_7/spatiotemporal_4_8-8-32-64_7272_1/model.ckpt\n",
      "INFO:tensorflow:Restoring parameters from /gpfs01/bethge/share/deep_proprioception/DeepDraw/../nn-training/experiment_7/spatial_temporal_4_8-16-16-32_32-32-64-64_7293_1r/model.ckpt\n",
      "INFO:tensorflow:Restoring parameters from /gpfs01/bethge/share/deep_proprioception/DeepDraw/../nn-training/experiment_7/spatial_temporal_4_8-16-16-32_32-32-64-64_7293_3/model.ckpt\n",
      "INFO:tensorflow:Restoring parameters from /gpfs01/bethge/share/deep_proprioception/DeepDraw/../nn-training/experiment_7/spatial_temporal_4_8-16-16-32_32-32-64-64_7293_2/model.ckpt\n",
      "INFO:tensorflow:Restoring parameters from /gpfs01/bethge/share/deep_proprioception/DeepDraw/../nn-training/experiment_7/spatial_temporal_4_8-16-16-32_32-32-64-64_7293_4r/model.ckpt\n",
      "INFO:tensorflow:Restoring parameters from /gpfs01/bethge/share/deep_proprioception/DeepDraw/../nn-training/experiment_7/spatiotemporal_4_8-8-32-64_7272_4r/model.ckpt\n",
      "INFO:tensorflow:Restoring parameters from /gpfs01/bethge/share/deep_proprioception/DeepDraw/../nn-training/experiment_7/spatiotemporal_4_8-8-32-64_7272_2/model.ckpt\n",
      "INFO:tensorflow:Restoring parameters from /gpfs01/bethge/share/deep_proprioception/DeepDraw/../nn-training/experiment_7/spatiotemporal_4_8-8-32-64_7272_5/model.ckpt\n",
      "INFO:tensorflow:Restoring parameters from /gpfs01/bethge/share/deep_proprioception/DeepDraw/../nn-training/experiment_7/spatiotemporal_4_8-8-32-64_7272_3/model.ckpt\n",
      "INFO:tensorflow:Restoring parameters from /gpfs01/bethge/share/deep_proprioception/DeepDraw/../nn-training/experiment_7/spatiotemporal_4_8-8-32-64_7272_4/model.ckpt\n",
      "INFO:tensorflow:Restoring parameters from /gpfs01/bethge/share/deep_proprioception/DeepDraw/../nn-training/experiment_7/spatial_temporal_4_8-16-16-32_32-32-64-64_7293_4/model.ckpt\n",
      "INFO:tensorflow:Restoring parameters from /gpfs01/bethge/share/deep_proprioception/DeepDraw/../nn-training/experiment_7/spatial_temporal_4_8-16-16-32_32-32-64-64_7293_5/model.ckpt\n",
      "INFO:tensorflow:Restoring parameters from /gpfs01/bethge/share/deep_proprioception/DeepDraw/../nn-training/experiment_7/spatiotemporal_4_8-8-32-64_7272_2r/model.ckpt\n",
      "INFO:tensorflow:Restoring parameters from /gpfs01/bethge/share/deep_proprioception/DeepDraw/../nn-training/experiment_7/spatiotemporal_4_8-8-32-64_7272_3r/model.ckpt\n",
      "INFO:tensorflow:Restoring parameters from /gpfs01/bethge/share/deep_proprioception/DeepDraw/../nn-training/experiment_7/spatiotemporal_4_8-8-32-64_7272_5r/model.ckpt\n"
     ]
    }
   ],
   "source": [
    "conv_train_accuracies = [evaluate_model(\n",
    "    load_model(all_conv_models.iloc[i], 7, 'conv', all_conv_models['is_trained'].iloc[i]),\n",
    "    train_dataset) for i in range(all_conv_models.shape[0])]"
   ]
  },
  {
   "cell_type": "code",
   "execution_count": 14,
   "metadata": {},
   "outputs": [
    {
     "name": "stdout",
     "output_type": "stream",
     "text": [
      "INFO:tensorflow:Restoring parameters from /gpfs01/bethge/share/deep_proprioception/DeepDraw/../nn-training/experiment_7/spatial_temporal_4_8-16-16-32_32-32-64-64_7293_2r/model.ckpt\n",
      "INFO:tensorflow:Restoring parameters from /gpfs01/bethge/share/deep_proprioception/DeepDraw/../nn-training/experiment_7/spatial_temporal_4_8-16-16-32_32-32-64-64_7293_5r/model.ckpt\n",
      "INFO:tensorflow:Restoring parameters from /gpfs01/bethge/share/deep_proprioception/DeepDraw/../nn-training/experiment_7/spatial_temporal_4_8-16-16-32_32-32-64-64_7293_3r/model.ckpt\n",
      "INFO:tensorflow:Restoring parameters from /gpfs01/bethge/share/deep_proprioception/DeepDraw/../nn-training/experiment_7/spatial_temporal_4_8-16-16-32_32-32-64-64_7293_1/model.ckpt\n",
      "INFO:tensorflow:Restoring parameters from /gpfs01/bethge/share/deep_proprioception/DeepDraw/../nn-training/experiment_7/spatiotemporal_4_8-8-32-64_7272_1r/model.ckpt\n",
      "INFO:tensorflow:Restoring parameters from /gpfs01/bethge/share/deep_proprioception/DeepDraw/../nn-training/experiment_7/spatiotemporal_4_8-8-32-64_7272_1/model.ckpt\n",
      "INFO:tensorflow:Restoring parameters from /gpfs01/bethge/share/deep_proprioception/DeepDraw/../nn-training/experiment_7/spatial_temporal_4_8-16-16-32_32-32-64-64_7293_1r/model.ckpt\n",
      "INFO:tensorflow:Restoring parameters from /gpfs01/bethge/share/deep_proprioception/DeepDraw/../nn-training/experiment_7/spatial_temporal_4_8-16-16-32_32-32-64-64_7293_3/model.ckpt\n",
      "INFO:tensorflow:Restoring parameters from /gpfs01/bethge/share/deep_proprioception/DeepDraw/../nn-training/experiment_7/spatial_temporal_4_8-16-16-32_32-32-64-64_7293_2/model.ckpt\n",
      "INFO:tensorflow:Restoring parameters from /gpfs01/bethge/share/deep_proprioception/DeepDraw/../nn-training/experiment_7/spatial_temporal_4_8-16-16-32_32-32-64-64_7293_4r/model.ckpt\n",
      "INFO:tensorflow:Restoring parameters from /gpfs01/bethge/share/deep_proprioception/DeepDraw/../nn-training/experiment_7/spatiotemporal_4_8-8-32-64_7272_4r/model.ckpt\n",
      "INFO:tensorflow:Restoring parameters from /gpfs01/bethge/share/deep_proprioception/DeepDraw/../nn-training/experiment_7/spatiotemporal_4_8-8-32-64_7272_2/model.ckpt\n",
      "INFO:tensorflow:Restoring parameters from /gpfs01/bethge/share/deep_proprioception/DeepDraw/../nn-training/experiment_7/spatiotemporal_4_8-8-32-64_7272_5/model.ckpt\n",
      "INFO:tensorflow:Restoring parameters from /gpfs01/bethge/share/deep_proprioception/DeepDraw/../nn-training/experiment_7/spatiotemporal_4_8-8-32-64_7272_3/model.ckpt\n",
      "INFO:tensorflow:Restoring parameters from /gpfs01/bethge/share/deep_proprioception/DeepDraw/../nn-training/experiment_7/spatiotemporal_4_8-8-32-64_7272_4/model.ckpt\n",
      "INFO:tensorflow:Restoring parameters from /gpfs01/bethge/share/deep_proprioception/DeepDraw/../nn-training/experiment_7/spatial_temporal_4_8-16-16-32_32-32-64-64_7293_4/model.ckpt\n",
      "INFO:tensorflow:Restoring parameters from /gpfs01/bethge/share/deep_proprioception/DeepDraw/../nn-training/experiment_7/spatial_temporal_4_8-16-16-32_32-32-64-64_7293_5/model.ckpt\n",
      "INFO:tensorflow:Restoring parameters from /gpfs01/bethge/share/deep_proprioception/DeepDraw/../nn-training/experiment_7/spatiotemporal_4_8-8-32-64_7272_2r/model.ckpt\n",
      "INFO:tensorflow:Restoring parameters from /gpfs01/bethge/share/deep_proprioception/DeepDraw/../nn-training/experiment_7/spatiotemporal_4_8-8-32-64_7272_3r/model.ckpt\n",
      "INFO:tensorflow:Restoring parameters from /gpfs01/bethge/share/deep_proprioception/DeepDraw/../nn-training/experiment_7/spatiotemporal_4_8-8-32-64_7272_5r/model.ckpt\n"
     ]
    }
   ],
   "source": [
    "# Load test dataset\n",
    "PATH_TO_DATA = os.path.abspath('../../dataset/')\n",
    "test_dataset = Dataset(os.path.join(PATH_TO_DATA, 'pcr_dataset_test.hdf5'), dataset_type='test', key='spindle_info')\n",
    "\n",
    "conv_test_accuracies = [evaluate_model(\n",
    "    load_model(all_conv_models.iloc[i], 7, 'conv', all_conv_models['is_trained'].iloc[i]),\n",
    "    test_dataset) for i in range(all_conv_models.shape[0])]"
   ]
  },
  {
   "cell_type": "code",
   "execution_count": 15,
   "metadata": {},
   "outputs": [],
   "source": [
    "conv_val_accuracies = all_conv_models['validation_accuracy'].tolist()\n",
    "all_conv_models['test_accuracy'] = pd.Series(conv_test_accuracies)\n",
    "all_conv_models['train_accuracy'] = pd.Series(conv_train_accuracies)"
   ]
  },
  {
   "cell_type": "code",
   "execution_count": 16,
   "metadata": {},
   "outputs": [],
   "source": [
    "all_conv_models.to_pickle('new_analyzed_convmodels.p')"
   ]
  },
  {
   "cell_type": "code",
   "execution_count": null,
   "metadata": {},
   "outputs": [],
   "source": []
  }
 ],
 "metadata": {
  "kernelspec": {
   "display_name": "Python 3",
   "language": "python",
   "name": "python3"
  },
  "language_info": {
   "codemirror_mode": {
    "name": "ipython",
    "version": 3
   },
   "file_extension": ".py",
   "mimetype": "text/x-python",
   "name": "python",
   "nbconvert_exporter": "python",
   "pygments_lexer": "ipython3",
   "version": "3.6.3"
  },
  "varInspector": {
   "cols": {
    "lenName": 16,
    "lenType": 16,
    "lenVar": 40
   },
   "kernels_config": {
    "python": {
     "delete_cmd_postfix": "",
     "delete_cmd_prefix": "del ",
     "library": "var_list.py",
     "varRefreshCmd": "print(var_dic_list())"
    },
    "r": {
     "delete_cmd_postfix": ") ",
     "delete_cmd_prefix": "rm(",
     "library": "var_list.r",
     "varRefreshCmd": "cat(var_dic_list()) "
    }
   },
   "oldHeight": 332.4,
   "position": {
    "height": "40px",
    "left": "1166px",
    "right": "20px",
    "top": "121px",
    "width": "350px"
   },
   "types_to_exclude": [
    "module",
    "function",
    "builtin_function_or_method",
    "instance",
    "_Feature"
   ],
   "varInspector_section_display": "none",
   "window_display": false
  }
 },
 "nbformat": 4,
 "nbformat_minor": 2
}
