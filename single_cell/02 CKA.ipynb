{
 "cells": [
  {
   "cell_type": "markdown",
   "metadata": {},
   "source": [
    "# Centered Kernel Alignment (CKA)"
   ]
  },
  {
   "cell_type": "markdown",
   "metadata": {},
   "source": [
    "This script performs CKA on selected model types."
   ]
  },
  {
   "cell_type": "code",
   "execution_count": null,
   "metadata": {},
   "outputs": [],
   "source": [
    "import numpy as np\n",
    "from kornblith_et_al_rsa_colab import *\n",
    "from rowwise_neuron_curves_controls import lstring\n",
    "import seaborn as sns\n",
    "import os, pickle\n",
    "import copy\n",
    "import matplotlib.pyplot as plt\n",
    "\n",
    "def cca(features_x, features_y):\n",
    "    \"\"\"Compute the mean squared CCA correlation (R^2_{CCA}).\n",
    "    From: Kornblith et al 2019\n",
    "\n",
    "    Args:\n",
    "      features_x: A num_examples x num_features matrix of features.\n",
    "      features_y: A num_examples x num_features matrix of features.\n",
    "\n",
    "    Returns:\n",
    "      The mean squared CCA correlations between X and Y.\n",
    "      \n",
    "    \"\"\"\n",
    "    qx, _ = np.linalg.qr(features_x)  # Or use SVD with full_matrices=False.\n",
    "    qy, _ = np.linalg.qr(features_y)\n",
    "    return np.linalg.norm(qx.T.dot(qy)) ** 2 / min(features_x.shape[1], features_y.shape[1])"
   ]
  },
  {
   "cell_type": "markdown",
   "metadata": {},
   "source": [
    "Specify model and run info"
   ]
  },
  {
   "cell_type": "code",
   "execution_count": null,
   "metadata": {},
   "outputs": [],
   "source": [
    "modelinfo = dict({'type': 'S',\n",
    "            'base': 'spatial_temporal_4_8-16-16-32_64-64-64-64_5272',\n",
    "            #'name': 'spatial_temporal_4_8-16-16-32_64-64-64-64_5272',\n",
    "            'nlayers': 8,\n",
    "            'max_act': 14,\n",
    "            'control': False,\n",
    "            'cmap': 'Blues_r',\n",
    "            'color': 'C0',\n",
    "            'control_cmap': 'Purples_r'})\n",
    "\n",
    "runinfo = RunInfo({'expid': 1, #internal experiment id\n",
    "                   'datafraction': 0.5,\n",
    "                   'randomseed': 2000,\n",
    "                   'randomseed_traintest': 42,\n",
    "                   'dirr2threshold': 0.2,\n",
    "                   'verbose': 0,\n",
    "                   'model_experiment_id': 4 #as per Pranav's model generation\n",
    "            })"
   ]
  },
  {
   "cell_type": "code",
   "execution_count": null,
   "metadata": {},
   "outputs": [],
   "source": [
    "def rsa_models_comp(model, runinfo):\n",
    "    \n",
    "    nlayers = model['nlayers'] + 1\n",
    "    \n",
    "    #layers = ['L%d' %i for i in np.arange(1,nlayers)]\n",
    "\n",
    "    #modelnames = [model['name']] + [model['name'] + '_%d' %(i + 1) for i in range(5)]\n",
    "    modelbase = model['base']\n",
    "    trainednamer = lambda i: modelbase + '_%d' %i\n",
    "    modelnames = [trainednamer(i) for i in np.arange(1,6)]\n",
    "        \n",
    "    model = model.copy()\n",
    "    \n",
    "    cka = np.zeros((5, nlayers))\n",
    "    cca = np.zeros((5, nlayers))\n",
    "    \n",
    "    for imodel, mname in enumerate(modelnames):\n",
    "        model['name'] = mname\n",
    "        model_cka = np.load(os.path.join(runinfo.analysisfolder(model, 'rsa'), 'cka_matrix.npy'))\n",
    "        model_cca = np.load(os.path.join(runinfo.analysisfolder(model, 'rsa'), 'cca_matrix.npy'))\n",
    "        \n",
    "        cka[imodel] = model_cka\n",
    "        cca[imodel] = model_cca\n",
    "        \n",
    "    folder = runinfo.sharedanalysisfolder(model, 'rsa')\n",
    "    \n",
    "    os.makedirs(folder, exist_ok=True)\n",
    "    \n",
    "    np.save(os.path.join(folder, 'cka_matrix.npy'), cka)\n",
    "    np.save(os.path.join(folder, 'cca_matrix.npy'), cca)\n",
    "    \n",
    "    cka_ax = sns.heatmap(cka)\n",
    "    cka_ax.set_xlabel('layer')\n",
    "    cka_ax.set_ylabel('model')\n",
    "    fig = cka_ax.get_figure()\n",
    "    fig.savefig(os.path.join(folder, 'cka.pdf'))\n",
    "    \n",
    "    fig.clf()\n",
    "    cca_ax = sns.heatmap(cca)\n",
    "    cca_ax.set_xlabel('layer')\n",
    "    cca_ax.set_ylabel('model')\n",
    "    fig = cca_ax.get_figure()\n",
    "    fig.savefig(os.path.join(folder, 'cca.pdf'))\n",
    "    fig.clf()\n",
    "    \n",
    "    plt.close('all')"
   ]
  },
  {
   "cell_type": "markdown",
   "metadata": {},
   "source": [
    "perform comparisons"
   ]
  },
  {
   "cell_type": "code",
   "execution_count": null,
   "metadata": {},
   "outputs": [],
   "source": [
    "nlayers = trainedmodel['nlayers']\n",
    "\n",
    "cka_matrix = np.zeros((1, nlayers + 1))\n",
    "cca_matrix = np.zeros((1, nlayers + 1))\n",
    "\n",
    "for ilayer in np.arange(-1, nlayers):\n",
    "    layer = lstring(ilayer)  \n",
    "    X = pickle.load(open(os.path.join(runinfo.datafolder(trainedmodel), layer + '.pkl'), 'rb'))\n",
    "    X = X.reshape((X.shape[0], -1))                    \n",
    "    Y = pickle.load(open(os.path.join(runinfo.datafolder(controlmodel), layer + '.pkl'), 'rb'))\n",
    "    Y = Y.reshape((Y.shape[0], -1))\n",
    "\n",
    "    print(\"Layer %d \" %(ilayer + 1))\n",
    "    print(\"X Shape: %s, Y Shape: %s\" %(X.shape, Y.shape))\n",
    "\n",
    "    cka_from_examples = cka(gram_linear(X), gram_linear(Y))\n",
    "    cca_from_features = cca(X, Y)\n",
    "\n",
    "    cka_matrix[0, ilayer + 1] = cka_from_examples\n",
    "    cca_matrix[0, ilayer + 1] = cca_from_features\n",
    "\n",
    "folder = runinfo.analysisfolder(trainedmodel, 'rsa')\n",
    "os.makedirs(folder, exist_ok=True)\n",
    "\n",
    "np.save(os.path.join(folder, 'cka_matrix.npy'), cka_matrix)\n",
    "np.save(os.path.join(folder, 'cca_matrix.npy'), cca_matrix)\n",
    "\n",
    "sns.set()\n",
    "cka_ax = sns.heatmap(cka_matrix)\n",
    "fig = cka_ax.get_figure()\n",
    "fig.savefig(os.path.join(folder, 'cka.pdf'))\n",
    "\n",
    "fig.clf()\n",
    "cca_ax = sns.heatmap(cca_matrix)\n",
    "fig = cca_ax.get_figure()\n",
    "fig.savefig(os.path.join(folder, 'cca.pdf'))\n",
    "fig.clf()\n",
    "\n",
    "plt.close('all')"
   ]
  }
 ],
 "metadata": {
  "kernelspec": {
   "display_name": "Python 3",
   "language": "python",
   "name": "python3"
  },
  "language_info": {
   "codemirror_mode": {
    "name": "ipython",
    "version": 3
   },
   "file_extension": ".py",
   "mimetype": "text/x-python",
   "name": "python",
   "nbconvert_exporter": "python",
   "pygments_lexer": "ipython3",
   "version": "3.7.1"
  }
 },
 "nbformat": 4,
 "nbformat_minor": 2
}
