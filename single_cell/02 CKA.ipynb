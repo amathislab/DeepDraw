{
 "cells": [
  {
   "cell_type": "markdown",
   "metadata": {},
   "source": [
    "# Centered Kernel Alignment (CKA)"
   ]
  },
  {
   "cell_type": "markdown",
   "metadata": {},
   "source": [
    "This script shows how to calculate CKA for the deep proprioceptive models, based on Kornblith et al 2019: https://arxiv.org/abs/1905.00414\n",
    "\n",
    "This script should be run using the libraries from the environment.yml file."
   ]
  },
  {
   "cell_type": "code",
   "execution_count": 7,
   "metadata": {},
   "outputs": [],
   "source": [
    "import numpy as np\n",
    "from kornblith_et_al_rsa_colab import *\n",
    "from rowwise_neuron_curves import lstring\n",
    "import seaborn as sns\n",
    "import os, pickle\n",
    "import copy\n",
    "import matplotlib.pyplot as plt\n",
    "import matplotlib\n",
    "from main import RunInfo\n",
    "from rowwise_neuron_curves import lstring, read_layer_reps\n",
    "\n",
    "def cca(features_x, features_y):\n",
    "    \"\"\"Compute the mean squared CCA correlation (R^2_{CCA}).\n",
    "    From: Kornblith et al 2019\n",
    "\n",
    "    Args:\n",
    "      features_x: A num_examples x num_features matrix of features.\n",
    "      features_y: A num_examples x num_features matrix of features.\n",
    "\n",
    "    Returns:\n",
    "      The mean squared CCA correlations between X and Y.\n",
    "      \n",
    "    \"\"\"\n",
    "    qx, _ = np.linalg.qr(features_x)  # Or use SVD with full_matrices=False.\n",
    "    qy, _ = np.linalg.qr(features_y)\n",
    "    return np.linalg.norm(qx.T.dot(qy)) ** 2 / min(features_x.shape[1], features_y.shape[1])"
   ]
  },
  {
   "cell_type": "markdown",
   "metadata": {},
   "source": [
    "Specify model and run info"
   ]
  },
  {
   "cell_type": "code",
   "execution_count": 8,
   "metadata": {},
   "outputs": [],
   "source": [
    "modelinfo = dict({'type': 'S',\n",
    "        'typename': 'spatial_temporal',\n",
    "        'base': 'spatial_temporal_4_8-16-16-32_32-32-64-64_7293',\n",
    "        'base_regression': 'spatial_temporal_r_4_8-16-16-32_32-32-64-64_7293',\n",
    "        'nlayers': 8,\n",
    "        'max_nlayers': 8,\n",
    "        'max_act': 14, #this can be manually adjusted as the maximum in the preferred direction histogram\n",
    "        'control': False,\n",
    "        'cmap': matplotlib.colors.ListedColormap(['midnightblue']),\n",
    "        'color': 'midnightblue',\n",
    "        'regression_color': 'darkturquoise',\n",
    "        'control_cmap': 'Greys_r',\n",
    "        'regression_cmap': matplotlib.colors.ListedColormap(['darkturquoise']),\n",
    "        's_stride': 2,\n",
    "        't_stride': 3,\n",
    "        'regression_task': False,\n",
    "        'model_path': None,\n",
    "        'exp_id': None,})\n",
    "\n",
    "runinfo = RunInfo({'expid': 402, #internal experiment id\n",
    "                   'datafraction': 'auto',  #fraction (0,1] or 'auto' (i.e. if you want to run a new analysis but keep the old results that it would otherwise overwrite, increment by 1)\n",
    "                   'randomseed': 2000,\n",
    "                   'randomseed_traintest': 42,\n",
    "                   'dirr2threshold': 0.2,\n",
    "                   'verbose': 2, #0 (least), 1, 2 (most)\n",
    "                   'model_experiment_id': 22,  #used in model training, int or 'auto'\n",
    "                   'basefolder': '/media/data/DeepDraw/revisions/analysis-data/', ## change this folder to redirect to where the data is saved locally\n",
    "                   'batchsize': 100, #for layer representation generation\n",
    "                   'default_run': True, #only variable that is 'trial'-dependent,\n",
    "                                    #ie should be changed when rerunning stuff in same folder\n",
    "                                    #not semantically important for run info\n",
    "                    'dpi': 500\n",
    "            })"
   ]
  },
  {
   "cell_type": "markdown",
   "metadata": {},
   "source": [
    "internal vars"
   ]
  },
  {
   "cell_type": "code",
   "execution_count": 9,
   "metadata": {},
   "outputs": [],
   "source": [
    "n_instantiations = 5"
   ]
  },
  {
   "cell_type": "markdown",
   "metadata": {},
   "source": [
    "perform comparisons"
   ]
  },
  {
   "cell_type": "code",
   "execution_count": 10,
   "metadata": {},
   "outputs": [
    {
     "name": "stdout",
     "output_type": "stream",
     "text": [
      "read layer represenations. shape:  (4000, 25, 320, 2)\n",
      "read layer represenations. shape:  (4000, 25, 320, 2)\n",
      "read layer represenations. shape:  (4000, 13, 320, 8)\n",
      "read layer represenations. shape:  (4000, 13, 320, 8)\n",
      "read layer represenations. shape:  (4000, 7, 320, 16)\n",
      "read layer represenations. shape:  (4000, 7, 320, 16)\n",
      "read layer represenations. shape:  (4000, 4, 320, 16)\n",
      "read layer represenations. shape:  (4000, 4, 320, 16)\n",
      "read layer represenations. shape:  (4000, 2, 320, 32)\n",
      "read layer represenations. shape:  (4000, 2, 320, 32)\n",
      "read layer represenations. shape:  (4000, 2, 107, 32)\n",
      "read layer represenations. shape:  (4000, 2, 107, 32)\n",
      "read layer represenations. shape:  (4000, 2, 36, 32)\n",
      "read layer represenations. shape:  (4000, 2, 36, 32)\n",
      "read layer represenations. shape:  (4000, 2, 12, 64)\n",
      "read layer represenations. shape:  (4000, 2, 12, 64)\n",
      "read layer represenations. shape:  (4000, 2, 4, 64)\n",
      "read layer represenations. shape:  (4000, 2, 4, 64)\n",
      "read layer represenations. shape:  (4000, 25, 320, 2)\n",
      "read layer represenations. shape:  (4000, 25, 320, 2)\n",
      "read layer represenations. shape:  (4000, 13, 320, 8)\n",
      "read layer represenations. shape:  (4000, 13, 320, 8)\n",
      "read layer represenations. shape:  (4000, 7, 320, 16)\n",
      "read layer represenations. shape:  (4000, 7, 320, 16)\n",
      "read layer represenations. shape:  (4000, 4, 320, 16)\n",
      "read layer represenations. shape:  (4000, 4, 320, 16)\n",
      "read layer represenations. shape:  (4000, 2, 320, 32)\n",
      "read layer represenations. shape:  (4000, 2, 320, 32)\n",
      "read layer represenations. shape:  (4000, 2, 107, 32)\n",
      "read layer represenations. shape:  (4000, 2, 107, 32)\n",
      "read layer represenations. shape:  (4000, 2, 36, 32)\n",
      "read layer represenations. shape:  (4000, 2, 36, 32)\n",
      "read layer represenations. shape:  (4000, 2, 12, 64)\n",
      "read layer represenations. shape:  (4000, 2, 12, 64)\n",
      "read layer represenations. shape:  (4000, 2, 4, 64)\n",
      "read layer represenations. shape:  (4000, 2, 4, 64)\n",
      "read layer represenations. shape:  (4000, 25, 320, 2)\n",
      "read layer represenations. shape:  (4000, 25, 320, 2)\n",
      "read layer represenations. shape:  (4000, 13, 320, 8)\n",
      "read layer represenations. shape:  (4000, 13, 320, 8)\n",
      "read layer represenations. shape:  (4000, 7, 320, 16)\n",
      "read layer represenations. shape:  (4000, 7, 320, 16)\n",
      "read layer represenations. shape:  (4000, 4, 320, 16)\n",
      "read layer represenations. shape:  (4000, 4, 320, 16)\n",
      "read layer represenations. shape:  (4000, 2, 320, 32)\n",
      "read layer represenations. shape:  (4000, 2, 320, 32)\n",
      "read layer represenations. shape:  (4000, 2, 107, 32)\n",
      "read layer represenations. shape:  (4000, 2, 107, 32)\n",
      "read layer represenations. shape:  (4000, 2, 36, 32)\n",
      "read layer represenations. shape:  (4000, 2, 36, 32)\n",
      "read layer represenations. shape:  (4000, 2, 12, 64)\n",
      "read layer represenations. shape:  (4000, 2, 12, 64)\n",
      "read layer represenations. shape:  (4000, 2, 4, 64)\n",
      "read layer represenations. shape:  (4000, 2, 4, 64)\n",
      "read layer represenations. shape:  (4000, 25, 320, 2)\n",
      "read layer represenations. shape:  (4000, 25, 320, 2)\n",
      "read layer represenations. shape:  (4000, 13, 320, 8)\n",
      "read layer represenations. shape:  (4000, 13, 320, 8)\n",
      "read layer represenations. shape:  (4000, 7, 320, 16)\n",
      "read layer represenations. shape:  (4000, 7, 320, 16)\n",
      "read layer represenations. shape:  (4000, 4, 320, 16)\n",
      "read layer represenations. shape:  (4000, 4, 320, 16)\n",
      "read layer represenations. shape:  (4000, 2, 320, 32)\n",
      "read layer represenations. shape:  (4000, 2, 320, 32)\n",
      "read layer represenations. shape:  (4000, 2, 107, 32)\n",
      "read layer represenations. shape:  (4000, 2, 107, 32)\n",
      "read layer represenations. shape:  (4000, 2, 36, 32)\n",
      "read layer represenations. shape:  (4000, 2, 36, 32)\n",
      "read layer represenations. shape:  (4000, 2, 12, 64)\n",
      "read layer represenations. shape:  (4000, 2, 12, 64)\n",
      "read layer represenations. shape:  (4000, 2, 4, 64)\n",
      "read layer represenations. shape:  (4000, 2, 4, 64)\n",
      "read layer represenations. shape:  (4000, 25, 320, 2)\n",
      "read layer represenations. shape:  (4000, 25, 320, 2)\n",
      "read layer represenations. shape:  (4000, 13, 320, 8)\n",
      "read layer represenations. shape:  (4000, 13, 320, 8)\n",
      "read layer represenations. shape:  (4000, 7, 320, 16)\n",
      "read layer represenations. shape:  (4000, 7, 320, 16)\n",
      "read layer represenations. shape:  (4000, 4, 320, 16)\n",
      "read layer represenations. shape:  (4000, 4, 320, 16)\n",
      "read layer represenations. shape:  (4000, 2, 320, 32)\n",
      "read layer represenations. shape:  (4000, 2, 320, 32)\n",
      "read layer represenations. shape:  (4000, 2, 107, 32)\n",
      "read layer represenations. shape:  (4000, 2, 107, 32)\n",
      "read layer represenations. shape:  (4000, 2, 36, 32)\n",
      "read layer represenations. shape:  (4000, 2, 36, 32)\n",
      "read layer represenations. shape:  (4000, 2, 12, 64)\n",
      "read layer represenations. shape:  (4000, 2, 12, 64)\n",
      "read layer represenations. shape:  (4000, 2, 4, 64)\n",
      "read layer represenations. shape:  (4000, 2, 4, 64)\n"
     ]
    }
   ],
   "source": [
    "nlayers = modelinfo['nlayers']\n",
    "\n",
    "cka_matrix = np.zeros((n_instantiations, nlayers + 1))\n",
    "\n",
    "for iinsta in np.arange(0,n_instantiations):\n",
    "    \n",
    "    trainedmodel = modelinfo.copy()\n",
    "    trainedmodel['name'] = modelinfo['base'] + '_%d' %(iinsta+1)\n",
    "\n",
    "    controlmodel = modelinfo.copy()\n",
    "    controlmodel['name'] = modelinfo['base'] + '_%dr' %(iinsta+1)\n",
    "\n",
    "    for ilayer in np.arange(-1, nlayers):\n",
    "        layer = lstring(ilayer)  \n",
    "        X = read_layer_reps(ilayer, runinfo, trainedmodel)\n",
    "        X = X.reshape((X.shape[0], -1))                    \n",
    "        Y = read_layer_reps(ilayer, runinfo, controlmodel)\n",
    "        Y = Y.reshape((Y.shape[0], -1))\n",
    "\n",
    "        cka_from_examples = cka(gram_linear(X), gram_linear(Y))\n",
    "\n",
    "        cka_matrix[iinsta, ilayer + 1] = cka_from_examples"
   ]
  },
  {
   "cell_type": "code",
   "execution_count": 15,
   "metadata": {},
   "outputs": [
    {
     "data": {
      "image/png": "[encoded data removed]",
      "text/plain": [
       "<Figure size 576x576 with 2 Axes>"
      ]
     },
     "execution_count": 15,
     "metadata": {},
     "output_type": "execute_result"
    }
   ],
   "source": [
    "fig = plt.figure()\n",
    "cka_ax = sns.heatmap(cka_matrix)\n",
    "cka_ax.set_xlabel('layer')\n",
    "cka_ax.set_ylabel('model')\n",
    "cka_ax.set_title('CKA for %s' %modelinfo['type'])\n",
    "fig = cka_ax.get_figure()\n",
    "fig"
   ]
  },
  {
   "cell_type": "code",
   "execution_count": null,
   "metadata": {},
   "outputs": [],
   "source": []
  }
 ],
 "metadata": {
  "kernelspec": {
   "display_name": "Python 3",
   "language": "python",
   "name": "python3"
  },
  "language_info": {
   "codemirror_mode": {
    "name": "ipython",
    "version": 3
   },
   "file_extension": ".py",
   "mimetype": "text/x-python",
   "name": "python",
   "nbconvert_exporter": "python",
   "pygments_lexer": "ipython3",
   "version": "3.8.5"
  }
 },
 "nbformat": 4,
 "nbformat_minor": 2
}
