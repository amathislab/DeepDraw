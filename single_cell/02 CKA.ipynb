{
 "cells": [
  {
   "cell_type": "markdown",
   "metadata": {},
   "source": [
    "# Centered Kernel Alignment (CKA)"
   ]
  },
  {
   "cell_type": "markdown",
   "metadata": {},
   "source": [
    "This script shows how to calculate CKA for the deep proprioceptive models, based on Kornblith et al 2019: https://arxiv.org/abs/1905.00414"
   ]
  },
  {
   "cell_type": "code",
   "execution_count": 1,
   "metadata": {},
   "outputs": [
    {
     "name": "stdout",
     "output_type": "stream",
     "text": [
      "No module named 'tensorflow'\n",
      "proceeding without savelouts , this will only work if no data is being generated\n"
     ]
    }
   ],
   "source": [
    "import numpy as np\n",
    "from kornblith_et_al_rsa_colab import *\n",
    "from rowwise_neuron_curves_controls import lstring\n",
    "import seaborn as sns\n",
    "import os, pickle\n",
    "import copy\n",
    "import matplotlib.pyplot as plt\n",
    "from controls_main import RunInfo\n",
    "\n",
    "def cca(features_x, features_y):\n",
    "    \"\"\"Compute the mean squared CCA correlation (R^2_{CCA}).\n",
    "    From: Kornblith et al 2019\n",
    "\n",
    "    Args:\n",
    "      features_x: A num_examples x num_features matrix of features.\n",
    "      features_y: A num_examples x num_features matrix of features.\n",
    "\n",
    "    Returns:\n",
    "      The mean squared CCA correlations between X and Y.\n",
    "      \n",
    "    \"\"\"\n",
    "    qx, _ = np.linalg.qr(features_x)  # Or use SVD with full_matrices=False.\n",
    "    qy, _ = np.linalg.qr(features_y)\n",
    "    return np.linalg.norm(qx.T.dot(qy)) ** 2 / min(features_x.shape[1], features_y.shape[1])"
   ]
  },
  {
   "cell_type": "markdown",
   "metadata": {},
   "source": [
    "Specify model and run info"
   ]
  },
  {
   "cell_type": "code",
   "execution_count": 6,
   "metadata": {},
   "outputs": [],
   "source": [
    "modelinfo = dict({'type': 'S',\n",
    "            'base': 'spatial_temporal_4_8-16-16-32_64-64-64-64_5272',\n",
    "            'name': 'spatial_temporal_4_8-16-16-32_64-64-64-64_5272_1',\n",
    "            'shortbase': 'Spatial-Temporal',\n",
    "            'shortname': 'Spatial-Temporal_1',\n",
    "            'nlayers': 8,\n",
    "            'max_act': 14,\n",
    "            'control': False,\n",
    "            'cmap': 'Blues_r',\n",
    "            'color': 'C0',\n",
    "            'control_cmap': 'Purples_r'})\n",
    "\n",
    "runinfo = RunInfo({'expid': 102, #internal experiment id\n",
    "                   'datafraction': 0.5,\n",
    "                   'randomseed': 2000,\n",
    "                   'randomseed_traintest': 42,\n",
    "                   'dirr2threshold': 0.2,\n",
    "                   'verbose': 0,\n",
    "                   'model_experiment_id': 4, #as per Pranav's model generation\n",
    "                   'basefolder' : '/mnt/data/random_controls/',\n",
    "                   'orientation' : 'hor',\n",
    "                   'height' : 'all'\n",
    "            })"
   ]
  },
  {
   "cell_type": "markdown",
   "metadata": {},
   "source": [
    "internal vars"
   ]
  },
  {
   "cell_type": "code",
   "execution_count": 7,
   "metadata": {},
   "outputs": [],
   "source": [
    "n_instantiations = 5"
   ]
  },
  {
   "cell_type": "markdown",
   "metadata": {},
   "source": [
    "perform comparisons"
   ]
  },
  {
   "cell_type": "code",
   "execution_count": 16,
   "metadata": {},
   "outputs": [
    {
     "name": "stdout",
     "output_type": "stream",
     "text": [
      "/mnt/data/random_controls/\n",
      "/mnt/data/random_controls/\n",
      "/mnt/data/random_controls/\n",
      "/mnt/data/random_controls/\n",
      "/mnt/data/random_controls/\n",
      "/mnt/data/random_controls/\n",
      "/mnt/data/random_controls/\n",
      "/mnt/data/random_controls/\n",
      "/mnt/data/random_controls/\n",
      "/mnt/data/random_controls/\n",
      "/mnt/data/random_controls/\n",
      "/mnt/data/random_controls/\n",
      "/mnt/data/random_controls/\n",
      "/mnt/data/random_controls/\n",
      "/mnt/data/random_controls/\n",
      "/mnt/data/random_controls/\n",
      "/mnt/data/random_controls/\n",
      "/mnt/data/random_controls/\n",
      "/mnt/data/random_controls/\n",
      "/mnt/data/random_controls/\n",
      "/mnt/data/random_controls/\n",
      "/mnt/data/random_controls/\n",
      "/mnt/data/random_controls/\n",
      "/mnt/data/random_controls/\n",
      "/mnt/data/random_controls/\n",
      "/mnt/data/random_controls/\n",
      "/mnt/data/random_controls/\n",
      "/mnt/data/random_controls/\n",
      "/mnt/data/random_controls/\n",
      "/mnt/data/random_controls/\n",
      "/mnt/data/random_controls/\n",
      "/mnt/data/random_controls/\n",
      "/mnt/data/random_controls/\n",
      "/mnt/data/random_controls/\n",
      "/mnt/data/random_controls/\n",
      "/mnt/data/random_controls/\n",
      "/mnt/data/random_controls/\n",
      "/mnt/data/random_controls/\n",
      "/mnt/data/random_controls/\n",
      "/mnt/data/random_controls/\n",
      "/mnt/data/random_controls/\n",
      "/mnt/data/random_controls/\n",
      "/mnt/data/random_controls/\n",
      "/mnt/data/random_controls/\n",
      "/mnt/data/random_controls/\n",
      "/mnt/data/random_controls/\n",
      "/mnt/data/random_controls/\n",
      "/mnt/data/random_controls/\n",
      "/mnt/data/random_controls/\n",
      "/mnt/data/random_controls/\n",
      "/mnt/data/random_controls/\n",
      "/mnt/data/random_controls/\n",
      "/mnt/data/random_controls/\n",
      "/mnt/data/random_controls/\n",
      "/mnt/data/random_controls/\n",
      "/mnt/data/random_controls/\n",
      "/mnt/data/random_controls/\n",
      "/mnt/data/random_controls/\n",
      "/mnt/data/random_controls/\n",
      "/mnt/data/random_controls/\n",
      "/mnt/data/random_controls/\n",
      "/mnt/data/random_controls/\n",
      "/mnt/data/random_controls/\n",
      "/mnt/data/random_controls/\n",
      "/mnt/data/random_controls/\n",
      "/mnt/data/random_controls/\n",
      "/mnt/data/random_controls/\n",
      "/mnt/data/random_controls/\n",
      "/mnt/data/random_controls/\n",
      "/mnt/data/random_controls/\n",
      "/mnt/data/random_controls/\n",
      "/mnt/data/random_controls/\n",
      "/mnt/data/random_controls/\n",
      "/mnt/data/random_controls/\n",
      "/mnt/data/random_controls/\n",
      "/mnt/data/random_controls/\n",
      "/mnt/data/random_controls/\n",
      "/mnt/data/random_controls/\n",
      "/mnt/data/random_controls/\n",
      "/mnt/data/random_controls/\n",
      "/mnt/data/random_controls/\n",
      "/mnt/data/random_controls/\n",
      "/mnt/data/random_controls/\n",
      "/mnt/data/random_controls/\n",
      "/mnt/data/random_controls/\n",
      "/mnt/data/random_controls/\n",
      "/mnt/data/random_controls/\n",
      "/mnt/data/random_controls/\n",
      "/mnt/data/random_controls/\n",
      "/mnt/data/random_controls/\n"
     ]
    }
   ],
   "source": [
    "nlayers = modelinfo['nlayers']\n",
    "\n",
    "cka_matrix = np.zeros((n_instantiations, nlayers + 1))\n",
    "\n",
    "for iinsta in np.arange(0,n_instantiations):\n",
    "    \n",
    "    trainedmodel = modelinfo.copy()\n",
    "    trainedmodel['name'] = modelinfo['base'] + '_%d' %(iinsta+1)\n",
    "\n",
    "    controlmodel = modelinfo.copy()\n",
    "    controlmodel['name'] = modelinfo['base'] + '_%dr' %(iinsta+1)\n",
    "\n",
    "    for ilayer in np.arange(-1, nlayers):\n",
    "        layer = lstring(ilayer)  \n",
    "        X = pickle.load(open(os.path.join(runinfo.datafolder(trainedmodel), layer + '.pkl'), 'rb'))\n",
    "        X = X.reshape((X.shape[0], -1))                    \n",
    "        Y = pickle.load(open(os.path.join(runinfo.datafolder(controlmodel), layer + '.pkl'), 'rb'))\n",
    "        Y = Y.reshape((Y.shape[0], -1))\n",
    "\n",
    "        #print(\"Layer %d \" %(ilayer + 1))\n",
    "        #print(\"X Shape: %s, Y Shape: %s\" %(X.shape, Y.shape))\n",
    "\n",
    "        cka_from_examples = cka(gram_linear(X), gram_linear(Y))\n",
    "\n",
    "        cka_matrix[iinsta, ilayer + 1] = cka_from_examples"
   ]
  },
  {
   "cell_type": "code",
   "execution_count": 17,
   "metadata": {},
   "outputs": [
    {
     "data": {
      "image/png": "[encoded data removed]",
      "text/plain": [
       "<Figure size 432x288 with 2 Axes>"
      ]
     },
     "metadata": {
      "needs_background": "light"
     },
     "output_type": "display_data"
    }
   ],
   "source": [
    "cka_ax = sns.heatmap(cka_matrix)\n",
    "cka_ax.set_xlabel('layer')\n",
    "cka_ax.set_ylabel('model')\n",
    "cka_ax.set_title('CKA for %s' %modelinfo['shortbase'])\n",
    "fig = cka_ax.get_figure()"
   ]
  },
  {
   "cell_type": "code",
   "execution_count": null,
   "metadata": {},
   "outputs": [],
   "source": []
  }
 ],
 "metadata": {
  "kernelspec": {
   "display_name": "Python 3",
   "language": "python",
   "name": "python3"
  },
  "language_info": {
   "codemirror_mode": {
    "name": "ipython",
    "version": 3
   },
   "file_extension": ".py",
   "mimetype": "text/x-python",
   "name": "python",
   "nbconvert_exporter": "python",
   "pygments_lexer": "ipython3",
   "version": "3.7.1"
  }
 },
 "nbformat": 4,
 "nbformat_minor": 2
}
