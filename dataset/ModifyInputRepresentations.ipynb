{
 "cells": [
  {
   "cell_type": "code",
   "execution_count": 2,
   "metadata": {},
   "outputs": [],
   "source": [
    "import os\n",
    "import sys\n",
    "\n",
    "sys.path.append('../code/')\n",
    "\n",
    "import numpy as np\n",
    "import h5py\n",
    "import matplotlib.pyplot as plt\n",
    "from nn_models import ConvModel\n",
    "from nn_train_utils import *\n",
    "\n",
    "import pickle\n",
    "import pandas as pd\n",
    "\n",
    "%load_ext autoreload\n",
    "%autoreload 2"
   ]
  },
  {
   "cell_type": "markdown",
   "metadata": {},
   "source": [
    "#### Save Dataset with new set of spindle information"
   ]
  },
  {
   "cell_type": "code",
   "execution_count": null,
   "metadata": {},
   "outputs": [],
   "source": [
    "with h5py.File('../../dataset/pcr_dataset_train.hdf5', 'r') as file:\n",
    "    start_idx_train = file['start_id'][()]\n",
    "    end_idx_train = file['end_id'][()]\n",
    "    muscle_inputs_train = file['muscle_coords'][()]\n",
    "    \n",
    "with h5py.File('../../dataset/pcr_dataset_test.hdf5', 'r') as file:\n",
    "    start_idx_test = file['start_id'][()]\n",
    "    end_idx_test = file['end_id'][()]\n",
    "    muscle_inputs_test = file['muscle_coords'][()]"
   ]
  },
  {
   "cell_type": "code",
   "execution_count": null,
   "metadata": {},
   "outputs": [],
   "source": [
    "# Compute velocity given muscle lengths\n",
    "vel_inputs_train = np.gradient(muscle_inputs_train, 0.015, axis=2)\n",
    "vel_inputs_test = np.gradient(muscle_inputs_test, 0.015, axis=2)"
   ]
  },
  {
   "cell_type": "code",
   "execution_count": null,
   "metadata": {},
   "outputs": [],
   "source": [
    "# Stack length and velocity information and save\n",
    "spindle_info_train = np.stack((muscle_inputs_train, vel_inputs_train), axis=-1)\n",
    "spindle_info_test = np.stack((muscle_inputs_test, vel_inputs_test), axis=-1)"
   ]
  },
  {
   "cell_type": "code",
   "execution_count": null,
   "metadata": {},
   "outputs": [],
   "source": [
    "with h5py.File('../../dataset/pcr_dataset_train.hdf5', 'a') as file:\n",
    "    file.create_dataset('spindle_info', data=spindle_info_train)\n",
    "    \n",
    "with h5py.File('../../dataset/pcr_dataset_test.hdf5', 'a') as file:\n",
    "    file.create_dataset('spindle_info', data=spindle_info_test)"
   ]
  },
  {
   "cell_type": "code",
   "execution_count": null,
   "metadata": {},
   "outputs": [],
   "source": []
  }
 ],
 "metadata": {
  "kernelspec": {
   "display_name": "Python 3",
   "language": "python",
   "name": "python3"
  },
  "language_info": {
   "codemirror_mode": {
    "name": "ipython",
    "version": 3
   },
   "file_extension": ".py",
   "mimetype": "text/x-python",
   "name": "python",
   "nbconvert_exporter": "python",
   "pygments_lexer": "ipython3",
   "version": "3.6.3"
  }
 },
 "nbformat": 4,
 "nbformat_minor": 2
}
